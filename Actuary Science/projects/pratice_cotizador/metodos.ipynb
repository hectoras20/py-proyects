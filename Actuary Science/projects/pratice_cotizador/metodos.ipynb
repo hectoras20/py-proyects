{
 "cells": [
  {
   "cell_type": "markdown",
   "id": "abb4b1c9",
   "metadata": {},
   "source": [
    "Primero se me ocurre definir un código tal que nos ayude a realizar busqueda de valores dentro de un dataframe, dentro de una database o incluso dentro de una lista o numpy array, esta por verse, aunque se me ocurre que sería más fácil de realizar con Pandas y el método \"loc\"."
   ]
  },
  {
   "cell_type": "code",
   "execution_count": 69,
   "id": "f20a8c3a",
   "metadata": {},
   "outputs": [
    {
     "name": "stdout",
     "output_type": "stream",
     "text": [
      "   ProbaFallecimiento  Edad\n",
      "0                 0.5    25\n",
      "1                 0.2    30\n",
      "2                 0.3    28\n",
      "3                 0.4    22\n",
      "4                 0.5    35\n",
      "<class 'pandas.core.series.Series'>\n"
     ]
    }
   ],
   "source": [
    "import pandas as pd\n",
    "data = {\n",
    "    'ProbaFallecimiento': [0.5, 0.2, 0.3, 0.4, 0.5],\n",
    "    'Edad': [25, 30, 28, 22, 35]\n",
    "}\n",
    "\n",
    "df = pd.DataFrame(data)\n",
    "\n",
    "print(df)\n",
    "\n",
    "\n",
    "probFallEdad = 25\n",
    "valor = df.loc[df['Edad']  == probFallEdad,'ProbaFallecimiento']\n",
    "print(type(valor))"
   ]
  },
  {
   "cell_type": "markdown",
   "id": "927f6b88",
   "metadata": {},
   "source": [
    "Como podemos observar en este caso, el valor que esperamos es de tipo clase, lo cual no queremos, tendría que ser de tipo entero (int) o por lo menos alguna de las variantes que tiene Pandas pero que sea aún manipulable para hacer operaciones... (int64, etc)\n",
    "Entonces debemos de revisar que esté nuestro dataframe (sus columnas) bajo un tipo de dato correcto, en este caso int para edades y float para Probas de fallecimiento"
   ]
  },
  {
   "cell_type": "code",
   "execution_count": 70,
   "id": "2bf5a8f9",
   "metadata": {},
   "outputs": [
    {
     "name": "stdout",
     "output_type": "stream",
     "text": [
      "<class 'pandas.core.frame.DataFrame'>\n",
      "RangeIndex: 5 entries, 0 to 4\n",
      "Data columns (total 2 columns):\n",
      " #   Column              Non-Null Count  Dtype  \n",
      "---  ------              --------------  -----  \n",
      " 0   ProbaFallecimiento  5 non-null      float64\n",
      " 1   Edad                5 non-null      int64  \n",
      "dtypes: float64(1), int64(1)\n",
      "memory usage: 208.0 bytes\n",
      "<class 'float'>\n"
     ]
    }
   ],
   "source": [
    "\n",
    "df['ProbaFallecimiento'] = df['ProbaFallecimiento'].astype(float)\n",
    "df['Edad'] = df['Edad'].astype(int)\n",
    "df.info()\n",
    "\n",
    "probFallEdad = 25\n",
    "valor = df.loc[df['Edad']  == probFallEdad,'ProbaFallecimiento'].item()\n",
    "print(type(valor))"
   ]
  },
  {
   "cell_type": "markdown",
   "id": "19be5674",
   "metadata": {},
   "source": [
    "¿Qué hace .item()?\n",
    "\n",
    "Solo funciona si la Serie contiene exactamente un elemento\n",
    "Extrae ese único valor y lo devuelve como un escalar puro (float o int)\n",
    "Internamente es como hacer .values[0].item() en NumPy\n",
    "Importante: Si la Serie tiene más de un valor, .item() lanza un error.\n",
    "\n",
    "O bien, pudimos acceder al valor unicamente con la indexación en caso que loc me regresara en vez de un valor, valores, dentro de una SERIE, no lista, SERIE.\n",
    "valor = df.loc[df['Edad'] == 25, 'ProbaFallecimiento'].values[0]"
   ]
  },
  {
   "cell_type": "code",
   "execution_count": 71,
   "id": "9cbd6d82",
   "metadata": {},
   "outputs": [
    {
     "name": "stdout",
     "output_type": "stream",
     "text": [
      "0.5\n"
     ]
    }
   ],
   "source": [
    "print(valor)\n"
   ]
  },
  {
   "cell_type": "markdown",
   "id": "032f4c8b",
   "metadata": {},
   "source": [
    "# Ejercicio de Seguro Dotal Mixto Realizado en Clase\n",
    "Anteriormente habiamos realizado un ejercicio donde calculabamos la PUR y el valor de la Suma Asegurada en caso de sobrevivencia, en este caso para un dotal mixto EN EXCEL trataré de replicar ese ejercico dentro de Python, con los datos y calculos que hice y obtuve, los datos son los siguientes:\n",
    "- Edad inicio (x)\t    20\n",
    "- Temporalidad (n)\t    5 años\n",
    "- Tasa de interés (i)\t3.5% (0.035)\n",
    "- SA Fallecimiento\t    $50,000\n",
    "- SA Sobrevivencia\t    ? - $52,762.56\n",
    "\n",
    "La tabla de mortalidad (que la transformaremos en un dataframe para este ejercico) es:\n",
    "Edad  t_P_x  q_{x+t}\n",
    "20\t  0.01\t  0.99\n",
    "21\t  0.015\t  0.985\n",
    "22\t  0.02\t  0.98\n",
    "23\t  0.025\t  0.975\n",
    "24\t  0.03\t  0.97\n",
    "\n",
    "## Primer problema al que nos enfrentamos:\n",
    "Veamos como vamos a obtener nuestra tabla principal que sería el calculo de *la probabilidad de que una persona de edad x+t sobreviva a edad x+t+1* y *la probabildiad de que una persona de edad x sobreviva a edad x+t*\n"
   ]
  },
  {
   "cell_type": "code",
   "execution_count": 72,
   "id": "21eb19e2",
   "metadata": {},
   "outputs": [
    {
     "name": "stdout",
     "output_type": "stream",
     "text": [
      "<class 'pandas.core.frame.DataFrame'>\n",
      "RangeIndex: 5 entries, 0 to 4\n",
      "Data columns (total 3 columns):\n",
      " #   Column  Non-Null Count  Dtype  \n",
      "---  ------  --------------  -----  \n",
      " 0   edad    5 non-null      int64  \n",
      " 1   q_x     5 non-null      float64\n",
      " 2   p_x     5 non-null      float64\n",
      "dtypes: float64(2), int64(1)\n",
      "memory usage: 248.0 bytes\n",
      "None\n"
     ]
    }
   ],
   "source": [
    "# Primero creeamos nuestro dataframe manualmente, en este caso ÚNICAMENTE\n",
    "# Recuerda que nos debemos de asegurar que esten en un tipo de deto corecto, en este caso edad en tipo int, q_x y p_x en float\n",
    "\n",
    "data = {\n",
    "    'edad': [20, 21, 22, 23, 24],  \n",
    "    'q_x': [0.01, 0.015, 0.02, 0.025, 0.03],  \n",
    "    'p_x': [0.99, 0.985, 0.98, 0.975, 0.97]  \n",
    "}\n",
    "\n",
    "tablaMort = pd.DataFrame(data)\n",
    "\n",
    "# Cuidamos el tipo de dato de cada columna de nuestro DataFrame\n",
    "tablaMort['edad'] = tablaMort['edad'].astype('int')\n",
    "tablaMort['q_x'] = tablaMort['q_x'].astype('float')\n",
    "tablaMort['p_x'] = tablaMort['p_x'].astype('float')\n",
    "\n",
    "print(tablaMort.info())\n"
   ]
  },
  {
   "cell_type": "markdown",
   "id": "78b66a4f",
   "metadata": {},
   "source": [
    "Ahora, lo que se me ocurre es primero adaptar los calculos a una sola edad, tal como viene planteado el problema, despues se me ocurre que podríamos cambiarlo por una variable y hacer de todo el codigo DINÁMICO, que es lo que siempre se busca y no tener un código estático."
   ]
  },
  {
   "cell_type": "code",
   "execution_count": 73,
   "id": "3d17f9cd",
   "metadata": {},
   "outputs": [],
   "source": [
    "# Declaro mis variables con valores fijos\n",
    "edadContrata = 20\n",
    "\n",
    "temporalidad = 5\n",
    "\n",
    "tasa = 3.5\n",
    "\n",
    "SAfall = 50000"
   ]
  },
  {
   "cell_type": "markdown",
   "id": "b01fddf2",
   "metadata": {},
   "source": [
    "Ahora trataré de resolver nuestra primer problemática, la creación de un dataframe para nuestros calculos\n",
    "\n",
    "Se me ocurre, viendo la estructura de la creación de nuestro dataframe manual previo, partir de la base de este, los valores, los valores se definen a travez de listas, el problema es que sería 0 dinámico con el tiempo y tendría que definirse si se cambia de temporalidad valor por valor y que flojera.\n",
    "\n",
    "QUIZÁ, una función, que trabaje con APPEND, para ir añadiendo valores, de forma recursiva quizá.\n",
    "\n",
    "Creo que debería trabajar ademas con Numpy, porque usar una lista normal de Python para operar sería mala idea.\n"
   ]
  },
  {
   "cell_type": "code",
   "execution_count": 79,
   "id": "0e026a05",
   "metadata": {},
   "outputs": [
    {
     "name": "stdout",
     "output_type": "stream",
     "text": [
      "[0 1 2 3 4]\n",
      "Estas son las edades que debería de buscar para crear t_P_x [20 21 22 23 24]\n",
      "Tipo de dato =  <class 'float'>\n",
      "0.99\n",
      "[0.99, 0.985, 0.98, 0.975, 0.97]\n"
     ]
    }
   ],
   "source": [
    "import numpy as np\n",
    "\n",
    "# AQUÍ YA VA EL ANÁLISIS LINEA POR LINEA DE LO QUE DEBE DE SUCEDER PARA OBTENER LA PRIMER LISTA DE NUESTRA TABLA\n",
    "\n",
    "\n",
    "valoresT = np.arange(temporalidad)\n",
    "print(valoresT)\n",
    "\n",
    "#Estas son las edades a las cuales accedería para mi flujo\n",
    "edadesFLUJO = valoresT + edadContrata\n",
    "print('Estas son las edades que debería de buscar para crear t_P_x', edadesFLUJO)\n",
    "#Para acceder a cada uno de esos valores podría usar un ciclo for\n",
    "\n",
    "# Veamos antes si sirve nuestro primer codigo de busqueda con loc, para este dataframe nuevo de este problema \n",
    "valorN = tablaMort.loc[tablaMort['edad']  == 20,'p_x'].item()\n",
    "print('Tipo de dato = ', type(valorN))\n",
    "print(valorN)\n",
    "\n",
    "#Aquí contendré en una lista los valores que me interesan, osea mis probabilidades P_{x+t}\n",
    "probabilidesP_xt = []\n",
    "for i in edadesFLUJO:\n",
    "    #Usaré mi primer código que busca los valores correspondientes dentro del dataframe\n",
    "    probabilidesP_xt.append(tablaMort.loc[tablaMort['edad']  == i,'p_x'].item())\n",
    "\n",
    "print(probabilidesP_xt)\n",
    "\n",
    "# SIRVE"
   ]
  },
  {
   "cell_type": "markdown",
   "id": "5871f75b",
   "metadata": {},
   "source": [
    "Listo, tenemos por lo menos una columna creada, a decir verdad, la forma de solucionar este problema en Python se me hace muy muy muy muy muy diferente en cuanto a la forma de ver el problema, de interpretarlo, y claro, es codigo.\n",
    "\n",
    "Ahora, pasemos a la siguiente columna, que usa resurividad.\n",
    "\n",
    "En general, la resurvidad si o si se relaciona con funciones, pero no se hacerlas bien hasta el momento, todos los codigos de recursivdad que ví si se me complicaban inclusive códigos básicos como el de Fibonacci, donde se obtenian sus números, pero podemos preguntarle a chat que nos recuerde como era este tipo de codigo y adpatarlo a nuestra necesidad, no sería dificil porque es una multiplicación recursiva, por ende se me hace buena idea recurir al código de recursividad de Fibonacci, que era pura suma (creo).\n",
    "\n",
    "CHATGPT:\n",
    "def fibonacci(n):\n",
    "    if n == 0:\n",
    "        return 0\n",
    "    elif n == 1:\n",
    "        return 1\n",
    "    else:\n",
    "        return fibonacci(n - 1) + fibonacci(n - 2)\n",
    "\n",
    "Ejemplo: imprimir los primeros 10 números de Fibonacci\n",
    "for i in range(10):\n",
    "    print(f\"F({i}) = {fibonacci(i)}\")\n",
    "\n",
    "Neceistamos en nuestro caso, ver como se comporta el codigo paso a paso, como se comporta cuando toma n un valor, por ejemplo 5...\n",
    "fibonacci(5) = fibonacci(4) + fibonacci(3)\n",
    "fibonacci(4) = fibonacci(3) + fibonacci(2)\n",
    "fibonacci(3) = fibonacci(2) + fibonacci(1)\n",
    "fibonacci(2) = fibonacci(1) + fibonacci(0)\n",
    "\n",
    "Hace un tipo de empaquetado de los valores \n",
    "\n",
    "Osea\n",
    "\n",
    "fibonacci(CALCULA - 2) = 1 + 0 = 1 - Empaqueta y lleva al calculo de abajo - CASO BASE (pues los valores ya estan definidos)\n",
    "fibonacci(CALCULA - 3) = fibonacci(2) + fibonacci(1) = 1 + 1 = 2 - Empaqueta y lo usa en el calculo de abajo\n",
    "fibonacci(CALCULA - 4) = fibonacci(3) + fibonacci(2) = 2 + 1 = 3 - Empaqueta y lo usa en el calculo de abajo\n",
    "fibonacci(CALCULA - 5) = fibonacci(4) + fibonacci(3) = 3 + 2 = 5 - Empaqueta y lo usa en el calculo de abajo\n",
    "\n",
    "\n",
    "Ahora si lo adaptamos a lo que nosotros queremos es algo del tipo\n",
    "funcion(CALCULA - 0_P_20) = 1 empaqueta  y lo lleva queremos usar en el calculo de abajo - CASO BASE, (pues el valor para este ya esta definido previamente)\n",
    "funcion(CALCULA - 1_P_20) = funcion(CALCULA - 0_P_20) * función(1_P_20 - Tenemos y que tendría que BUSCAR) - **Segundo Problema** - EMPAQUETA\n",
    "funcion(CALCULA - 2_P_20) = funcion(CALCULA - 1_P_20) * funcion(1_P_21 - Tenemos y que tendría que BUSCAR) - EMPAQUETA\n",
    "...\n",
    "Nota que para este caso llegariamos hasta  \n",
    "funcion(CALCULA - 5_P_20) = funcion(CALCULA - 4_P_20) * funcion(1_P_24 - Tenemos y que tendría que BUSCAR)\n",
    "\n",
    "*El codigo lo que hace es empezaar desde abajo respecto al ultimo análisis que hicimos, osea, parte de declarar que la temporalidad es 5 y de ahí se sigue desarrollando hasta llegar al valor t=0*\n",
    "Esto debió de ser más que evidente para nuestro calculo\n",
    "\n",
    "# Segundo Problema \n",
    "Ahora, el problema radica en tener en disposición los valores que necesito para que se operen dentro de la recursividad...\n",
    "Los valores a buscar son\n",
    "- 1_P_20\n",
    "- 1_P_21\n",
    "- 1_P_22\n",
    "- 1_P_23\n",
    "- 1_P_24\n",
    "\n",
    "Que ya tenemos dentro de un array recuerda\n",
    "Podriamos trabajar directamente sobre ese array, osea hacer alusión y uso directo de ese array donde estan las probabilidades contenidas en orden de esos valores que necesitamos\n",
    "\n",
    "VARIABLE DEFINIDA COMO \"probabilidesP_xt\" contiene esas probabildiades en una lista\n",
    "\n",
    "En una lista, por ende podemos trabajar sobre indexación (mi peor pesadilla de los algortimos de ordenamiento que se construían bajo indexación)\n",
    "\n",
    "Osea lo que tratamos de hacer es:\n",
    "\n",
    "funcion(0) = 1                          <- caso base\n",
    "funcion(1) = funcion(0) * 0.99          = 1 * 0.99\n",
    "funcion(2) = funcion(1) * 0.985         = 0.99 * 0.985\n",
    "funcion(3) = funcion(2) * 0.98\n",
    "funcion(4) = funcion(3) * 0.975\n",
    "funcion(5) = funcion(4) * 0.97\n",
    "\n",
    "La verdad, en este punto ya necesita un poco de orientación y le pase mi idea a chat y me dio la siguiente solución:\n",
    "def calcular_probabilidad(t, probabilidadesP_xt):\n",
    "    if t == 0:\n",
    "        return 1\n",
    "    else:\n",
    "        return calcular_probabilidad(t - 1, probabilidadesP_xt) * probabilidadesP_xt[t - 1]\n",
    "\n"
   ]
  },
  {
   "cell_type": "code",
   "execution_count": 82,
   "id": "42258dd1",
   "metadata": {},
   "outputs": [
    {
     "name": "stdout",
     "output_type": "stream",
     "text": [
      "[0.99, 0.985, 0.98, 0.975, 0.97]\n",
      "0.9038031502499998\n"
     ]
    }
   ],
   "source": [
    "print(probabilidesP_xt)\n",
    "\n",
    "\n",
    "def calcular_probabilidad(t, probabilidadesP_xt):\n",
    "    if t == 0:\n",
    "        return 1\n",
    "    else:\n",
    "        return calcular_probabilidad(t - 1, probabilidadesP_xt) * probabilidadesP_xt[t - 1]\n",
    "    \n",
    "resultado = calcular_probabilidad(5, probabilidesP_xt)\n",
    "\n",
    "print(resultado)"
   ]
  },
  {
   "cell_type": "markdown",
   "id": "38091df0",
   "metadata": {},
   "source": [
    "Lo peor es que si funciona y viendo el codigo si era claro que tenía que trabajar con indexación pero no se me hubiera ocurrido escribirlo de esa forma con respecto a la lista con las probabilidades.\n",
    "Pero al menos ganamos experiencia con indices.\n",
    "\n",
    "# Segundo Problema Solucionado\n",
    "Ahora, ya tenemos la función que me retorna el valor de t_P_x\n",
    "\n",
    "# Terecer Problema - FLUJOS CONTINGENTES \n",
    "Cada flujo trabaja sobre sus probabilidades y sobre su valor presente con respecto a su valor de t\n",
    "Podriamos crear una función que trabaje sobre otras funciones (no se si eso es de buenas prácticas o si hay complejidad algorítmica pero asi de pensamiento, no veo problema con ello en ambos)\n",
    "\n",
    "Recordemos que el flujo para t = 0 por ejemplo es \n",
    "SA * 0_P_20 * Q_20 * v^1\n",
    "\n",
    "Donde ya tenemos...\n",
    "- La suma asegurada al ser en este problema fija pues no hay problema, se declara como una variable, pero cuando este cambie PODEMOS DEFINIR UNA FUNCIÓN QUE SE MUEVA CON RESPECTO A T Y SU SUMA ASEGURADA\n",
    "- Tenemos la función que nos calcula t_P_x (la última que hicimos)\n",
    "\n",
    "Nos falta\n",
    "- Se me ocurre definir una funcion para Q_20 para que sea este a su vez dinámica y se mueva entre los valores\n",
    "POSTERIORMENTE, se me ocurre dentro de la clase que será nuestro calculador determinar errores con comprobación de valores. Pero esto ya mas adenlante si sale esto.\n",
    "- Funcion para valor presente\n",
    "\n",
    "**Posteriormente se me ocurre definir un ciclo for i in temporalidadesT tal que hará los flujos contingentes**"
   ]
  },
  {
   "cell_type": "code",
   "execution_count": null,
   "id": "726c3583",
   "metadata": {},
   "outputs": [
    {
     "name": "stdout",
     "output_type": "stream",
     "text": [
      "0.025\n"
     ]
    }
   ],
   "source": [
    "# CODIGO DE LO QUE NOS FALTA\n",
    "\n",
    "# Reutilizamos el codigo que hicimos al inicio y que busca los valores, en este caso queremos que busque sobre q_x con respecto a un valor t\n",
    "t = 3\n",
    "\n",
    "def Prob_Q_x(t):\n",
    "    # OJO, que aqui trabajaremos con la edad de contratación en adición con t, pudimos trabajarlo de otra forma, claro, hay varias formas, por ejemplo, trabajar cn una lista que ya tuviera las edades sumadas, pero esta fue la primera forma que se me ocurrió\n",
    "    buscar_xt = edadContrata + t\n",
    "    valor = tablaMort.loc[tablaMort['edad']  == buscar_xt,'q_x'].item()\n",
    "    return valor\n",
    "\n",
    "print(Prob_Q_x(t))\n"
   ]
  },
  {
   "cell_type": "markdown",
   "id": "cfe54da8",
   "metadata": {},
   "source": [
    "Pero, se me ocurre que quizá los flujos podriamos hacerlos con numpy directamente y operar sobre numpy arrays...\n",
    "Osea que nuestros datos se alacenen dentro de un numpy array PARA FALLECIMIENTO\n",
    "\n",
    "Esta idea con el anterior codigo la desarrollaría de la siguiente forma\n"
   ]
  },
  {
   "cell_type": "code",
   "execution_count": 112,
   "id": "4b3c88c4",
   "metadata": {},
   "outputs": [
    {
     "name": "stdout",
     "output_type": "stream",
     "text": [
      "[0.01, 0.015, 0.02, 0.025, 0.03]\n",
      "[0.01  0.015 0.02  0.025 0.03 ]\n",
      "<class 'numpy.ndarray'>\n"
     ]
    }
   ],
   "source": [
    "listaQ_x = []\n",
    "\n",
    "for i in valoresT:\n",
    "    listaQ_x.append(Prob_Q_x(i))\n",
    "\n",
    "print(listaQ_x)\n",
    "\n",
    "valoresQ_x = np.array(listaQ_x)\n",
    "\n",
    "print(valoresQ_x)\n",
    "print(type(valoresQ_x))"
   ]
  },
  {
   "cell_type": "markdown",
   "id": "602d35cb",
   "metadata": {},
   "source": [
    "Ahora la misma idea para el valor presente"
   ]
  },
  {
   "cell_type": "code",
   "execution_count": 105,
   "id": "59ac2760",
   "metadata": {},
   "outputs": [
    {
     "name": "stdout",
     "output_type": "stream",
     "text": [
      "[np.float64(1.0), np.float64(0.9661835748792271), np.float64(0.933510700366403), np.float64(0.9019427056680224), np.float64(0.8714422276985724)]\n",
      "[1.         0.96618357 0.9335107  0.90194271 0.87144223]\n"
     ]
    }
   ],
   "source": [
    "listaVt = []\n",
    "\n",
    "for i in valoresT:\n",
    "    listaVt.append((1/(1+(tasa/100)))**i)\n",
    "\n",
    "print(listaVt)\n",
    "\n",
    "valoresVt = np.array(listaVt)\n",
    "print(valoresVt)\n"
   ]
  },
  {
   "cell_type": "markdown",
   "id": "8a9f83f6",
   "metadata": {},
   "source": [
    "Ahora la misma idea para los valores recursivos t_P_x"
   ]
  },
  {
   "cell_type": "code",
   "execution_count": 103,
   "id": "2caa0979",
   "metadata": {},
   "outputs": [
    {
     "name": "stdout",
     "output_type": "stream",
     "text": [
      "[1, 0.99, 0.97515, 0.9556469999999999, 0.9317558249999999]\n",
      "[1.         0.99       0.97515    0.955647   0.93175582]\n"
     ]
    }
   ],
   "source": [
    "listat_P_x = []\n",
    "\n",
    "for i in valoresT:\n",
    "    listat_P_x.append(calcular_probabilidad(i, probabilidesP_xt))\n",
    "\n",
    "print(listat_P_x)\n",
    "\n",
    "valorest_P_x = np.array(listat_P_x)\n",
    "\n",
    "print(valorest_P_x)"
   ]
  },
  {
   "cell_type": "markdown",
   "id": "fb9cc673",
   "metadata": {},
   "source": [
    "Ejemplos de como tendríamos los flujos calculados y el calculo de la prima unica de riesgo no es mas que la suma de esos flujos"
   ]
  },
  {
   "cell_type": "code",
   "execution_count": null,
   "id": "9dc46311",
   "metadata": {},
   "outputs": [
    {
     "name": "stdout",
     "output_type": "stream",
     "text": [
      "50000\n",
      "[1.         0.99       0.97515    0.955647   0.93175582]\n",
      "[0.01  0.015 0.02  0.025 0.03 ]\n",
      "[1.         0.96618357 0.9335107  0.90194271 0.87144223]\n",
      "[ 500.          717.39130435  910.31295946 1077.42355105 1217.95705771]\n",
      "PRIMA UNICA DE RIESGO = 4423.084872578216\n"
     ]
    }
   ],
   "source": [
    "print(SAfall)\n",
    "print(valorest_P_x)\n",
    "print(valoresQ_x)\n",
    "print(valoresVt)\n",
    "\n",
    "flujoFall = SAfall * valorest_P_x * valoresQ_x * valoresVt\n",
    "\n",
    "print(flujoFall)\n",
    "\n",
    "print('PRIMA UNICA DE RIESGO PARA SEGURO TEMPORAL =', float(flujoFall.sum()))\n"
   ]
  },
  {
   "cell_type": "markdown",
   "id": "1dc9d4fc",
   "metadata": {},
   "source": [
    "Resolver  el problema de encontrar la suma asegurada para sobrevivencia ya es solo cuestión de aplicar nuestras funciones a los valores correspondientes, pero en teoría ya esta hecho lo que nos indetersaba y con ello podemos construir nuetro calculador de primas.\n",
    "\n",
    "Lo ultimo refleja la paga de la prima unica si el seguro fuera unicamente temporal.\n",
    "Para ser dotal mixto aplicamos la idea de arriba de usar nuestras funciones y sumarlas.\n",
    "\n",
    "Esto dentro de una clase, sería un método calculador, que calcularía la prima UNICA, ya sea de un temporal, dotal puro o dotal mixto, practicamente con el codigo ya hecho sale, y es dinámico, asi que, va bien."
   ]
  }
 ],
 "metadata": {
  "kernelspec": {
   "display_name": "env_analysis",
   "language": "python",
   "name": "python3"
  },
  "language_info": {
   "codemirror_mode": {
    "name": "ipython",
    "version": 3
   },
   "file_extension": ".py",
   "mimetype": "text/x-python",
   "name": "python",
   "nbconvert_exporter": "python",
   "pygments_lexer": "ipython3",
   "version": "3.10.0"
  }
 },
 "nbformat": 4,
 "nbformat_minor": 5
}
