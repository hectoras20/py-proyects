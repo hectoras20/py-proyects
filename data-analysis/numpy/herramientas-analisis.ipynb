{
 "cells": [
  {
   "cell_type": "markdown",
   "metadata": {},
   "source": [
    "# Broadcasting\n",
    "\n",
    "Broadcasting es una funcionalidad de Numpy para operaciones aritméticas en arrays de diferentes tamaños y formas.  \n",
    "En lugar de crear copias para que los tamaños coincidan, extiende los arrays más pequeños a la forma del array más grande sin duplicar los datos.  \n",
    "Esto permite realizar operaciones elementales entre arrays de distintos tamaños.\n"
   ]
  },
  {
   "cell_type": "code",
   "execution_count": 1,
   "metadata": {},
   "outputs": [
    {
     "name": "stdout",
     "output_type": "stream",
     "text": [
      "Vector x Escalar:  [10. 20. 30.]\n"
     ]
    }
   ],
   "source": [
    "import numpy as np\n",
    "prices = np.array([100,200,300])\n",
    "discount = np.array([0.1])\n",
    "#Aplico un solo valor a cada una de las entradas, es como la multiplicación de un vector por un escalar.\n",
    "disc_price = discount * prices #El orden es irrelevante, no altera\n",
    "print('Vector x Escalar: ', disc_price)"
   ]
  },
  {
   "cell_type": "code",
   "execution_count": 9,
   "metadata": {},
   "outputs": [
    {
     "name": "stdout",
     "output_type": "stream",
     "text": [
      "Matriz aleatoria:\n",
      " [[130 169 137]\n",
      " [136 154 108]\n",
      " [170 145 131]]\n",
      "Resultado de suma de Matriz con Vector:\n",
      " [[140 189 167]\n",
      " [146 174 138]\n",
      " [180 165 161]]\n"
     ]
    }
   ],
   "source": [
    "prices = np.random.randint(100,200, size=(3,3))\n",
    "discount = np.array([10,20,30])\n",
    "disc_prices = prices + discount\n",
    "print('Matriz aleatoria:\\n', prices)\n",
    "print('Resultado de suma de Matriz con Vector:\\n', disc_prices)"
   ]
  },
  {
   "cell_type": "markdown",
   "metadata": {},
   "source": [
    "# Operaciones lógicas con Numpy\n",
    "- Método all, return bool\n",
    "- Método any (algún elemento), return bool"
   ]
  },
  {
   "cell_type": "code",
   "execution_count": 10,
   "metadata": {},
   "outputs": [
    {
     "name": "stdout",
     "output_type": "stream",
     "text": [
      "True\n",
      "True\n"
     ]
    }
   ],
   "source": [
    "array = np.array([1,2,3,4,5])\n",
    "print(np.all(array > 0))\n",
    "print(np.any(array > 4))"
   ]
  },
  {
   "cell_type": "markdown",
   "metadata": {},
   "source": [
    "En Numpy tambien tenemos el concepto de \"Concatenación\" que nos permite unir 1 o mas arrays para obtener uno solo"
   ]
  },
  {
   "cell_type": "code",
   "execution_count": 12,
   "metadata": {},
   "outputs": [
    {
     "name": "stdout",
     "output_type": "stream",
     "text": [
      "Concatenación de,  [1 2 3] con  [4 5 6] igual a:  [1 2 3 4 5 6]\n"
     ]
    }
   ],
   "source": [
    "A = np.array([1,2,3])\n",
    "B = np.array([4,5,6])\n",
    "concatenated = np.concatenate((A, B)) #El argumento debe de ir entre (), imagina que es una tupla lo que se concatena, algo que por supuesto no pasaría en Python\n",
    "print('Concatenación de, ', A, 'con ', B, 'igual a: ', concatenated)"
   ]
  },
  {
   "cell_type": "markdown",
   "metadata": {},
   "source": [
    "# Stacking\n",
    "Nos permite apilar arrays o darles otra dimensionalidad especificandole lo que queremos\n"
   ]
  },
  {
   "cell_type": "code",
   "execution_count": 14,
   "metadata": {},
   "outputs": [
    {
     "name": "stdout",
     "output_type": "stream",
     "text": [
      "Stacked de manera vertical de A y B:  [[1 2 3]\n",
      " [4 5 6]]\n",
      "Stacked de manera horizontal de A y B:  [1 2 3 4 5 6]\n"
     ]
    }
   ],
   "source": [
    "stacked_v = np.vstack((A,B)) #Lo mismo, el argumento va dentro de parentesis.\n",
    "print('Stacked de manera vertical de A y B: ', stacked_v)\n",
    "stacked_h = np.hstack((A,B))\n",
    "print('Stacked de manera horizontal de A y B: ', stacked_h)"
   ]
  },
  {
   "cell_type": "markdown",
   "metadata": {},
   "source": [
    "# Split\n",
    "Por último veremos la división de los arrays, si tenemos un array grande lo podemos dividir en vectores/arrays con menos elementos"
   ]
  },
  {
   "cell_type": "code",
   "execution_count": 16,
   "metadata": {},
   "outputs": [
    {
     "name": "stdout",
     "output_type": "stream",
     "text": [
      "[1 2 3 4 5]\n",
      "Array spliteado:  [array([1, 2, 3]), array([4, 5, 6]), array([7, 8, 9])]\n"
     ]
    }
   ],
   "source": [
    "array_c = np.arange(1,10) #Recuerda que termina en 9\n",
    "split_array = np.split(array_c, 3) #Argumentos: array a splitear y en cuantas divisiones\n",
    "print(array)\n",
    "print('Array spliteado: ', split_array)\n",
    "#Ten cuidado con: ValueError: array split does not result in an equal division"
   ]
  },
  {
   "cell_type": "markdown",
   "metadata": {},
   "source": [
    "# Unique\n",
    "Indica que elementos hay dentro de un array cualitativo sin repetirse, podemos ademas contar cuantas veces aparece"
   ]
  },
  {
   "cell_type": "code",
   "execution_count": 15,
   "metadata": {},
   "outputs": [
    {
     "name": "stdout",
     "output_type": "stream",
     "text": [
      "Respuestas:  ['bueno' 'excelente' 'malo']\n",
      "Dentro de una variable:  (array(['bueno', 'excelente', 'malo'], dtype='<U9'), array([3, 3, 3]))\n",
      "Dividido en dos variables...\n",
      "Elementos:  ['bueno' 'excelente' 'malo']\n",
      "Counts:  [3 3 3]\n",
      "Zip es resultado de una clase, con tuple mostramos el resultado:  ((np.str_('bueno'), np.int64(3)), (np.str_('excelente'), np.int64(3)), (np.str_('malo'), np.int64(3)))\n"
     ]
    }
   ],
   "source": [
    "responses = np.array(['bueno', 'excelente', 'malo', 'bueno', 'excelente', 'malo', 'bueno', 'excelente', 'malo'])\n",
    "print('Respuestas: ', np.unique(responses))\n",
    "\n",
    "#Para el conteo analiza que obtenemos dos variables, digamos metidas dentro de una clase de tupla, esto porque esta dentro de paréntesis, es para darnos una idea de que podemos meter ambos retornos en dos variables por separado para interpretar mejor los resultados...\n",
    "count = np.unique(responses, return_counts=True)\n",
    "print('Dentro de una variable: ', count)\n",
    "print('Dividido en dos variables...')\n",
    "elements, count = np.unique(responses, return_counts=True)\n",
    "print('Elementos: ', elements)\n",
    "print('Counts: ', count)\n",
    "print('Zip es resultado de una clase, con tuple mostramos el resultado: ', tuple(zip(elements, count))) #Es un poco mas sucia la información."
   ]
  },
  {
   "cell_type": "markdown",
   "metadata": {},
   "source": [
    "# Copias y vistas\n",
    "Hay que ser cuidadosos con las modificaciones que realizamos dentro de un array pues podemos compremeter la modificación de un array \"original\""
   ]
  },
  {
   "cell_type": "code",
   "execution_count": 7,
   "metadata": {},
   "outputs": [
    {
     "name": "stdout",
     "output_type": "stream",
     "text": [
      "Vistas de arrays...\n",
      "[0 1 2 3 4 5 6 7 8 9]\n",
      "[1 2]\n",
      "[ 0 10 11  3  4  5  6  7  8  9]\n",
      "[10 11]\n",
      "Copias de arrays...\n",
      "[0 1 2 3 4 5 6 7 8 9]\n",
      "[1 2]\n",
      "[ 0 11 10  3  4  5  6  7  8  9]\n",
      "[10 11]\n"
     ]
    }
   ],
   "source": [
    "print('Vistas de arrays...')\n",
    "array_x = np.arange(10)\n",
    "view_y = array_x[1:3] #Simplemente quiero ver los elementos dentro de esos índices del array_x original.\n",
    "print(array_x)\n",
    "print(view_y)\n",
    "#Hasta aquí todo normal\n",
    "\n",
    "#Ahora, si yo modifico el array original pues tambien se vería afectada la vista de elementos/consulta de elementos que realicé (view_y)\n",
    "array_x[1:3] = [10,11]\n",
    "print(array_x)\n",
    "print(view_y)\n",
    "#Y esto puede ser un problema, todo esto radica en memoria, la solución es la sigueinte:\n",
    "\n",
    "print('Copias de arrays...')\n",
    "array_x = np.arange(10)\n",
    "copy_x = array_x[1:3]\n",
    "#Hasta ahorita todo normal\n",
    "print(array_x)\n",
    "print(copy_x)\n",
    "#Realizo mi modificación\n",
    "array_x[1:3] = [11,10]\n",
    "print(array_x)\n",
    "print(view_y)\n"
   ]
  },
  {
   "cell_type": "markdown",
   "metadata": {},
   "source": [
    "# Transformación de Arrays: Reshape y Manipulación\n",
    "\n",
    "En algebra lineal la transposición de matrices es una operación fundamental para la solucion de sistema de ecuaciones.\n",
    "Invertir nuestros arrays de dimensión 2 puede ser $\\text{crucial para algorítmos de procesamiento de datos...}\n",
    "En numpy esas operaciones no solo son posibles si no que son eficientes y fáciles de implemental, aprenderemos a transponer y cambiar forma de matrices además de invertir y aplanar arrays multidimensionales."
   ]
  },
  {
   "cell_type": "code",
   "execution_count": 19,
   "metadata": {},
   "outputs": [
    {
     "name": "stdout",
     "output_type": "stream",
     "text": [
      "Matriz:\n",
      " [[1 2 3]\n",
      " [4 5 6]\n",
      " [1 2 3]]\n",
      "Transpuesta:\n",
      " [[1 4 1]\n",
      " [2 5 2]\n",
      " [3 6 3]]\n"
     ]
    }
   ],
   "source": [
    "matrix = np.array([[1,2,3], [4,5,6], [1,2,3]])\n",
    "transposed_matrix = matrix.T\n",
    "print('Matriz:\\n', matrix)\n",
    "print('Transpuesta:\\n', transposed_matrix)"
   ]
  },
  {
   "cell_type": "markdown",
   "metadata": {},
   "source": [
    "# Reshape\n",
    "Permite cambiar la forma de un array SIN CAMBIAR SUS DATOS. Es importante asegurarse que el número total de elementos permanezca constante... por ejemplo, un array de 2 elementos puede ser remodelado en una matriz 3x4, 4x3, 2x6 pero NO en una de dimensión 5x3"
   ]
  },
  {
   "cell_type": "code",
   "execution_count": 21,
   "metadata": {},
   "outputs": [
    {
     "name": "stdout",
     "output_type": "stream",
     "text": [
      "Array:  [ 1  2  3  4  5  6  7  8  9 10 11 12]\n",
      "Reshaped:\n",
      " [[ 1  2  3  4]\n",
      " [ 5  6  7  8]\n",
      " [ 9 10 11 12]]\n"
     ]
    }
   ],
   "source": [
    "#Crearemos entonces un array de 12 elementos...\n",
    "array = np.arange(1, 13)\n",
    "reshaped_array = array.reshape(3,4)\n",
    "print('Array: ', array)\n",
    "print('Reshaped:\\n', reshaped_array)\n"
   ]
  },
  {
   "cell_type": "markdown",
   "metadata": {},
   "source": [
    "# Reverse\n",
    "Modificaciones a los elementos de un array.\n",
    "Podemos invertir un array, como un algortimo de ordenamiento."
   ]
  },
  {
   "cell_type": "code",
   "execution_count": 22,
   "metadata": {},
   "outputs": [
    {
     "name": "stdout",
     "output_type": "stream",
     "text": [
      "Reversed Array:  [12 11 10  9  8  7  6  5  4  3  2  1]\n"
     ]
    }
   ],
   "source": [
    "reversed_array = array[::-1] #Queremos que vaya de inicio a fin (::) y la manera en la que irá iterando será de -1 en -1, es decir que empieza con el -1, de ahí con el -2 y así sucesivamente hasta el inicio.\n",
    "print('Reversed Array: ', reversed_array)"
   ]
  },
  {
   "cell_type": "markdown",
   "metadata": {},
   "source": [
    "# Flattening\n",
    "Se ve bastante en el mundo de la IA \n",
    "Cuando nececesitas un forma de datos LINEAL (digamos en forma de veector en vez de una matriz) para ciertos algorítmos de procesamiento y analisis, flattening es un procedimiento que transforma un array multidimensional a uni-dimensional.\n",
    "\n",
    "Un caso específico del uso del flattening es en Deep Learning cuando tenemos una imagen de 64x64 y tenemos la matriz de pixeles, para pasar esta información a cada una de las neuronas de la red neuronal tenemos que aplanar la información para poder entrenar el modelo."
   ]
  },
  {
   "cell_type": "code",
   "execution_count": 23,
   "metadata": {},
   "outputs": [
    {
     "name": "stdout",
     "output_type": "stream",
     "text": [
      "Matrix:\n",
      " [[1 2 3]\n",
      " [4 5 6]\n",
      " [1 2 3]]\n",
      "Matriz uni-dimensional:  [1 2 3 4 5 6 1 2 3]\n"
     ]
    }
   ],
   "source": [
    "print('Matrix:\\n', matrix)\n",
    "flattened_array = matrix.flatten() #No recive argumentos.\n",
    "#Recuerda que la lectura es primero en filas.\n",
    "print('Matriz uni-dimensional: ', flattened_array)\n"
   ]
  }
 ],
 "metadata": {
  "kernelspec": {
   "display_name": "env_analysis",
   "language": "python",
   "name": "python3"
  },
  "language_info": {
   "codemirror_mode": {
    "name": "ipython",
    "version": 3
   },
   "file_extension": ".py",
   "mimetype": "text/x-python",
   "name": "python",
   "nbconvert_exporter": "python",
   "pygments_lexer": "ipython3",
   "version": "3.9.6"
  }
 },
 "nbformat": 4,
 "nbformat_minor": 4
}
