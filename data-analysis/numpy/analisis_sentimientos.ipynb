{
 "cells": [
  {
   "cell_type": "markdown",
   "metadata": {},
   "source": [
    "# Proyecto: Análisis de Sentimientos \n",
    "Lo que vamos a a hacer es una pequeña máquina de análisis de sentimiento de unos mensajes.\n",
    "No haremos procesamiento de lenguaje natural vamos a hacer algo más sencillo en donde vamos a extraer características de los enunciados y a esos lo vamos a calificar como positivas, neutras o negativas \n",
    "Al final nos dará un score de que tan positivo o negativo es el mensaje.\n",
    "\n",
    "Las respuestas son:\n",
    "- Gran mexicano y excelente en su área, su muerte es una enorme perdida y debería ser luto nacional!!!\n",
    "- Vaya señora que bueno que se asesora por alguien inteligente no por el ignorante del Gatt.\n",
    "- Se me ocurre y sin ver todos los videos de Plazti que me informéis por dónde empiezo. Entiendo que os tendría que decir quién soy y que quiero, vamos conocerme para asesorarme bien. Un saludo\n",
    "- Soy docente universitario, estoy intentando preparar mis clases en modo platzi bien didáctico, (le llamo modo noticiero), descargue una plataforma gratuita de grabación y transmisión de vídeo, se llama Obs estudio!bueno la sigo remando con sus funciones pero sé que saldrá algo!\n",
    "\n",
    "\n",
    "# Consideraciones:\n",
    "- Observemos en el primer mensaje que no se abren ni se cierran simbolos de exclamacion, no hay un punto donde determine donde termina la oración.\n",
    "- En el segundo no hay ninguna símbolo de puntuación.\n",
    "- En el tercero se están utilizando formas verbales o conjugaciones que no usamos en latinoamérica y de igual manera no hay un punto al final.\n",
    "- En la cuarta no hay un espacio además de que no está bien la apertura del símbolo de exclamación y otros detalles.\n",
    "\n",
    "# Es por ello que debemos hacer una \"limpieza\" de los mensajes\n",
    "En general la principal base del proyecto es el uso de vectores con la libreria de numpy, es por ello que necesitamos importarla como primer paso.\n"
   ]
  },
  {
   "cell_type": "code",
   "execution_count": 2,
   "metadata": {},
   "outputs": [],
   "source": [
    "import numpy as np"
   ]
  },
  {
   "cell_type": "markdown",
   "metadata": {},
   "source": [
    "Para hacer la \"limpieza\" del texto que vamos a ingresar para analizar hacemos lo siguiente.\n",
    "\n",
    "Haremos un replace, un cambio de los simbolos que no son de nuestro interés en este caso para simplemente colocar nada, los argumentos que recibe replace son, en str, el simbolo que queremos eliminar/omitir y seguido del valor o simbolo que lo remplazará, en este caso vacio simplemente.\n",
    "\n",
    "# Uso de información para el análisis de sentimiento\n",
    "No vamos a sacar toda la información de los datos, vamos a buscar cadenas específicas (osea palabras en específico), vamos a pensar cada uno de estos enunciados como una cadena y vamos a sacar características de ellas.. por ejemplo, si en el primer enunciado específicamente queremos sacar información útil centraremos usaremos las palabras:\n",
    "muerte, pérdida, luto, excelente, gran, positivo…\n",
    "\n",
    "\n",
    "# slipt()\n",
    "split() lo que hace es partir el enunciado, nos va a crear un vector (una lista) cuyos elementos serían las palabras del mensaje, en paréntesis va el símbolo o caracter el cual se tomará como referencia para dividir el enunciado en este caso, que sería con espacios."
   ]
  },
  {
   "cell_type": "code",
   "execution_count": 4,
   "metadata": {},
   "outputs": [
    {
     "name": "stdout",
     "output_type": "stream",
     "text": [
      "Mensaje:\n",
      " gran mexicano y excelente en su área, su muerte es una enorme perdida y debería ser luto nacional!!! \n",
      "\n",
      "Mensaje limpio para analizar:\n",
      " ['gran', 'mexicano', 'y', 'excelente', 'en', 'su', 'área', 'su', 'muerte', 'es', 'una', 'enorme', 'perdida', 'y', 'debería', 'ser', 'luto', 'nacional']\n"
     ]
    }
   ],
   "source": [
    "mensaje = \"Gran mexicano y excelente en su área, su muerte es una enorme perdida y debería ser luto nacional!!!\".lower()\n",
    "print('Mensaje:\\n', mensaje, '\\n')\n",
    "\n",
    "mensaje_limpio = mensaje.replace(\"!\", \"\").replace(\",\", \"\").split(\" \")\n",
    "print('Mensaje limpio para analizar:\\n', mensaje_limpio)\n",
    "\n"
   ]
  },
  {
   "cell_type": "markdown",
   "metadata": {},
   "source": [
    "# Elección de palabras tras dividir el mensaje en palabras dentro de una lista\n",
    "Puedes escribir las palabras que ocupes o bien escribir las palabras que consideres positivas, neutras y negativas dentro de cada lista respectivamente, el código tomará simplemente las que SÍ están en el enunciado, las que NO estén simplemente las descarta.\n",
    "\n",
    "El problema que podría tener sería el uso en memoria que causa tener la lista de palabras aquí, es por ello que podemos dar uso de otro tipo de archivos, ya sea contener las palabras posivitas, neutras y negativas en:\n",
    "- Un archivo .csv\n",
    "- Crear un módulo o clase en un archivo .py cuyos atributos serán listas.\n",
    "- Tener las palabras en el mismom script dentro de listas divididas como positivas, neutras y negativas.\n",
    "\n",
    "# Al final de cuentas en los métodos queremos trabajar con listas!"
   ]
  },
  {
   "cell_type": "code",
   "execution_count": 15,
   "metadata": {},
   "outputs": [],
   "source": [
    "positive_words_base = ['gran', 'excelente', 'te amo']\n",
    "neutral_words_base = []\n",
    "negative_words_base = []"
   ]
  },
  {
   "cell_type": "markdown",
   "metadata": {},
   "source": [
    "Ahora bien, tendríamos que buscar las palabras que nos interesan en nuestra lista nueva, si estas palabras están entonces con el método 3 las filtramos en una nueva lista, esta lista contendrá las palabras que estan en positive_words_base y en el mensaje."
   ]
  },
  {
   "cell_type": "code",
   "execution_count": 16,
   "metadata": {},
   "outputs": [],
   "source": [
    "positive_words_message = [i for i in positive_words_base if i in mensaje_limpio]\n",
    "neutral_words_message = [i for i in neutral_words_base if i in mensaje_limpio]\n",
    "negative_words_message = [i for i in negative_words_base if i in mensaje_limpio]\n"
   ]
  },
  {
   "cell_type": "markdown",
   "metadata": {},
   "source": [
    "Ahora tendremos un vector “indicador” w, donde van todas las palabras encontradas tanto en el texto como en la lista de palabras positivas, neutras y negativas, esto lo haremos con una función en la que por ejemplo contaremos cuantas veces aparece la palabra exclenete, gran, odio, etc.\n",
    "\n",
    "1. La función recibe como parámetros la palabra a contar y de donde, en este caso del mensaje ordenado.\n",
    "\n",
    "2. Estará contenido el conteo de palabras positivas, neutras y neagativas en listas respectivamente, haremos uso de list comprehension.\n",
    "\n",
    "# Con ello estariamos cuidadno el tema de calidad de respuesta! pues solo añade las palabras encontradas en la base y en el mensaje limpio.\n"
   ]
  },
  {
   "cell_type": "code",
   "execution_count": 18,
   "metadata": {},
   "outputs": [
    {
     "name": "stdout",
     "output_type": "stream",
     "text": [
      "[1, 1]\n"
     ]
    }
   ],
   "source": [
    "def countwords(word, mensaje_ordenado):    \n",
    "    return mensaje_ordenado.count(word)\n",
    "\n",
    "positivecount = [countwords(word, mensaje_limpio) for word in positive_words_message]\n",
    "neutralcount = [countwords(word, mensaje_limpio) for word in neutral_words_message]\n",
    "negativecount = [countwords(word, mensaje_limpio) for word in negative_words_message]\n",
    "\n",
    "#CONCATENAMOS LAS TRES LITAS CON SUMA PARA OBTENER EL VECTOR \"w\"\n",
    "\n",
    "w = positivecount + neutralcount + negativecount\n",
    "\n"
   ]
  },
  {
   "cell_type": "markdown",
   "metadata": {},
   "source": [
    "Ahora tendremos un vector \"s\" con la suma del score de palabras positivas, negativas y neutras."
   ]
  },
  {
   "cell_type": "markdown",
   "metadata": {},
   "source": [
    "Ahora tendremos un vector \"s\" con la suma del score de palabras positivas, negativas y neutras."
   ]
  },
  {
   "cell_type": "code",
   "execution_count": 20,
   "metadata": {},
   "outputs": [
    {
     "name": "stdout",
     "output_type": "stream",
     "text": [
      "Lista Score (S): [2, 0, 0]\n"
     ]
    }
   ],
   "source": [
    "s = [sum(positivecount), sum(neutralcount), sum(negativecount)]\n",
    "print(\"Lista Score (S):\", s)"
   ]
  },
  {
   "cell_type": "markdown",
   "metadata": {},
   "source": [
    "Ahora necesitamos saber la calidad de nuestros resultados, saber si es realmente bueno lo que nos indica el programa, para ello necesitamos calcular el promedio/media del score TOTAL, para ello es que creamos la lista \"w\"..."
   ]
  },
  {
   "cell_type": "code",
   "execution_count": 23,
   "metadata": {},
   "outputs": [
    {
     "name": "stdout",
     "output_type": "stream",
     "text": [
      "2\n",
      "La calidad de los datos es buena: 1.0\n"
     ]
    }
   ],
   "source": [
    "media = sum(w)/len(w)\n",
    "\n",
    "if media >= 1:\n",
    "    print(\"La calidad de los datos es buena:\", media)\n",
    "elif media >= 0.5 and media < 1:\n",
    "    print(\"La calidad de los resultados es regular, con incertidumbre:\", media)\n",
    "else:\n",
    "    print(\"La calidad de los datos es mala.\")"
   ]
  },
  {
   "cell_type": "markdown",
   "metadata": {},
   "source": [
    "Ahora bien después de calcular el promedio de calidad de cada uno de los mensajes, vamos a  calcular el sentimiento o el score sentimental DE CADA UNO DE LOS ENUNCIADOS\n",
    "Para ello haremos un score = [1,0,-1] multiplicado por [cantidad de palabras positivas, neutrales, negativas]\n",
    "\n",
    "Esto lo haremos con numpy."
   ]
  },
  {
   "cell_type": "code",
   "execution_count": 22,
   "metadata": {},
   "outputs": [
    {
     "name": "stdout",
     "output_type": "stream",
     "text": [
      "2\n"
     ]
    }
   ],
   "source": [
    "score = np.array([1,0,-1])@np.array(s)\n",
    "print(score)"
   ]
  }
 ],
 "metadata": {
  "kernelspec": {
   "display_name": "env_analysis",
   "language": "python",
   "name": "python3"
  },
  "language_info": {
   "codemirror_mode": {
    "name": "ipython",
    "version": 3
   },
   "file_extension": ".py",
   "mimetype": "text/x-python",
   "name": "python",
   "nbconvert_exporter": "python",
   "pygments_lexer": "ipython3",
   "version": "3.9.6"
  }
 },
 "nbformat": 4,
 "nbformat_minor": 2
}
