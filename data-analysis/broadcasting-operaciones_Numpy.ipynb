{
 "cells": [
  {
   "cell_type": "markdown",
   "metadata": {},
   "source": [
    "# Broadcasting\n",
    "\n",
    "Broadcasting es una funcionalidad de Numpy para operaciones aritméticas en arrays de diferentes tamaños y formas.  \n",
    "En lugar de crear copias para que los tamaños coincidan, extiende los arrays más pequeños a la forma del array más grande sin duplicar los datos.  \n",
    "Esto permite realizar operaciones elementales entre arrays de distintos tamaños.\n"
   ]
  },
  {
   "cell_type": "code",
   "execution_count": 8,
   "metadata": {},
   "outputs": [
    {
     "name": "stdout",
     "output_type": "stream",
     "text": [
      "Vector x Escalar:  [10. 20. 30.]\n"
     ]
    }
   ],
   "source": [
    "import numpy as np\n",
    "prices = np.array([100,200,300])\n",
    "discount = np.array([0.1])\n",
    "#Aplico un solo valor a cada una de las entradas, es como la multiplicación de un vector por un escalar.\n",
    "disc_price = discount * prices #El orden es irrelevante, no altera\n",
    "print('Vector x Escalar: ', disc_price)"
   ]
  },
  {
   "cell_type": "code",
   "execution_count": 9,
   "metadata": {},
   "outputs": [
    {
     "name": "stdout",
     "output_type": "stream",
     "text": [
      "Matriz aleatoria:\n",
      " [[130 169 137]\n",
      " [136 154 108]\n",
      " [170 145 131]]\n",
      "Resultado de suma de Matriz con Vector:\n",
      " [[140 189 167]\n",
      " [146 174 138]\n",
      " [180 165 161]]\n"
     ]
    }
   ],
   "source": [
    "prices = np.random.randint(100,200, size=(3,3))\n",
    "discount = np.array([10,20,30])\n",
    "disc_prices = prices + discount\n",
    "print('Matriz aleatoria:\\n', prices)\n",
    "print('Resultado de suma de Matriz con Vector:\\n', disc_prices)"
   ]
  },
  {
   "cell_type": "markdown",
   "metadata": {},
   "source": [
    "# Operaciones lógicas con Numpy\n",
    "- Método all, return bool\n",
    "- Método any (algún elemento), return bool"
   ]
  },
  {
   "cell_type": "code",
   "execution_count": 10,
   "metadata": {},
   "outputs": [
    {
     "name": "stdout",
     "output_type": "stream",
     "text": [
      "True\n",
      "True\n"
     ]
    }
   ],
   "source": [
    "array = np.array([1,2,3,4,5])\n",
    "print(np.all(array > 0))\n",
    "print(np.any(array > 4))"
   ]
  },
  {
   "cell_type": "markdown",
   "metadata": {},
   "source": [
    "En Numpy tambien tenemos el concepto de \"Concatenación\" que nos permite unir 1 o mas arrays para obtener uno solo"
   ]
  },
  {
   "cell_type": "code",
   "execution_count": 12,
   "metadata": {},
   "outputs": [
    {
     "name": "stdout",
     "output_type": "stream",
     "text": [
      "Concatenación de,  [1 2 3] con  [4 5 6] igual a:  [1 2 3 4 5 6]\n"
     ]
    }
   ],
   "source": [
    "A = np.array([1,2,3])\n",
    "B = np.array([4,5,6])\n",
    "concatenated = np.concatenate((A, B)) #El argumento debe de ir entre (), imagina que es una tupla lo que se concatena, algo que por supuesto no pasaría en Python\n",
    "print('Concatenación de, ', A, 'con ', B, 'igual a: ', concatenated)"
   ]
  },
  {
   "cell_type": "markdown",
   "metadata": {},
   "source": [
    "# Stacking\n",
    "Nos permite apilar arrays o darles otra dimensionalidad especificandole lo que queremos\n"
   ]
  },
  {
   "cell_type": "code",
   "execution_count": 14,
   "metadata": {},
   "outputs": [
    {
     "name": "stdout",
     "output_type": "stream",
     "text": [
      "Stacked de manera vertical de A y B:  [[1 2 3]\n",
      " [4 5 6]]\n",
      "Stacked de manera horizontal de A y B:  [1 2 3 4 5 6]\n"
     ]
    }
   ],
   "source": [
    "stacked_v = np.vstack((A,B)) #Lo mismo, el argumento va dentro de parentesis.\n",
    "print('Stacked de manera vertical de A y B: ', stacked_v)\n",
    "stacked_h = np.hstack((A,B))\n",
    "print('Stacked de manera horizontal de A y B: ', stacked_h)"
   ]
  },
  {
   "cell_type": "markdown",
   "metadata": {},
   "source": [
    "# Split\n",
    "Por último veremos la división de los arrays, si tenemos un array grande lo podemos dividir en vectores/arrays con menos elementos"
   ]
  },
  {
   "cell_type": "code",
   "execution_count": 16,
   "metadata": {},
   "outputs": [
    {
     "name": "stdout",
     "output_type": "stream",
     "text": [
      "[1 2 3 4 5]\n",
      "Array spliteado:  [array([1, 2, 3]), array([4, 5, 6]), array([7, 8, 9])]\n"
     ]
    }
   ],
   "source": [
    "array_c = np.arange(1,10) #Recuerda que termina en 9\n",
    "split_array = np.split(array_c, 3) #Argumentos: array a splitear y en cuantas divisiones\n",
    "print(array)\n",
    "print('Array spliteado: ', split_array)\n",
    "#Ten cuidado con: ValueError: array split does not result in an equal division"
   ]
  }
 ],
 "metadata": {
  "kernelspec": {
   "display_name": "env_analysis",
   "language": "python",
   "name": "python3"
  },
  "language_info": {
   "codemirror_mode": {
    "name": "ipython",
    "version": 3
   },
   "file_extension": ".py",
   "mimetype": "text/x-python",
   "name": "python",
   "nbconvert_exporter": "python",
   "pygments_lexer": "ipython3",
   "version": "3.9.6"
  }
 },
 "nbformat": 4,
 "nbformat_minor": 4
}
