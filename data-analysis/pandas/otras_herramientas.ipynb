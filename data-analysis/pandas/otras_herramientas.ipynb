{
 "cells": [
  {
   "cell_type": "markdown",
   "metadata": {},
   "source": [
    "# Otras formas útiles de analizar datos faltantes\n",
    "## Mostrar solo las columnas con valores nulos:\n",
    "Usa la misma sintaxis de obtener la suma de los valores nulos del dataset Y ADEMÁS añades la sintaxis de columna [] y dentro en vez de especificar la columna, vuleves a pasar el previo codigo completo e indicas que sea mayor a 0, se traduce a: columnas con resultado mayor a 0:\n",
    "- data_cleaned.isna().sum()[data_cleaned.isna().sum() > 0]\n",
    "\n",
    "## Ver el porcentaje de valores nulos por columna\n",
    "Como una simple operación entre métodos.\n",
    "- (data_cleaned.isna().sum() / len(data_cleaned)) * 100\n",
    "\n",
    "## Filtrar filas que tienen valores nulos en una columna específica\n",
    "Sintaxis de columna, porque estamos trabajando con columnas.\n",
    "Obten las columnas _con respecto a_ la columna x tenga datos vacios.\n",
    "- data_cleaned[data_cleaned['Columna'].isna()]\n",
    "\n",
    "## Eliminar filas con valores nulos en una columna específica\n",
    "Este si lo vimos, el subconjunto es la información de la fila.\n",
    "- data_cleaned = data_cleaned.dropna(subset=['Columna'])\n",
    "\n",
    "\n"
   ]
  },
  {
   "cell_type": "markdown",
   "metadata": {},
   "source": [
    "# Buenas prácticas para manejar fechas con valores nulos\n",
    "## Uso de métodos \n",
    "\n",
    "## Imputar valores (rellenar los nulos)\n",
    "Si necesitas mantener las filas, puedes rellenar los valores faltantes con diferentes estrategias\n",
    "\n",
    "### Imputar con la fecha anterior (Forward Fill – ffill)\n",
    "- data_cleaned['fecha'] = data_cleaned['fecha'].fillna(method='ffill')\n",
    "Útil cuando las fechas siguen un patrón secuencial, como datos de sensores o registros ordenados en el tiempo.\n",
    "\n",
    "### Imputar con la fecha siguiente (Backward Fill – bfill)\n",
    "- data_cleaned['fecha'] = data_cleaned['fecha'].fillna(method='bfill')\n",
    "Útil si quieres asumir que la fecha nula corresponde a la siguiente fecha conocida\n",
    "\n",
    "### Imputar con un valor estándar\n",
    "- data_cleaned['fecha'] = data_cleaned['fecha'].fillna(pd.Timestamp('2000-01-01'))\n",
    "Por ejemplo, si la fecha representa la fecha de registro de un usuario y falta, puedes asignar un valor predeterminado\n",
    "\n",
    "### Imputar con la mediana o media (para fechas en series temporales)\n",
    "- data_cleaned['fecha'] = data_cleaned['fecha'].fillna(data_cleaned['fecha'].median())\n",
    "\n",
    "## Interpolar valores en fechas continuas\n",
    "Si tienes datos con fechas continuas y quieres estimar los valores faltantes, puedes interpolar\n",
    "- data_cleaned['fecha'] = data_cleaned['fecha'].interpolate()\n",
    "Útil en series temporales cuando los valores siguen una tendencia predecible\n",
    "\n",
    "## Crear una columna de indicador de datos faltantes\n",
    "Para no perder información, puedes agregar una columna que indique si la fecha estaba vacía.\n",
    "Útil si la ausencia de fecha puede tener significado en el análisis por ejemplo, un cliente que no completó su registro\n",
    "- data_cleaned['fecha_faltante'] = data_cleaned['fecha'].isna().astype(int)\n",
    "\n",
    "\n",
    "\n"
   ]
  },
  {
   "cell_type": "markdown",
   "metadata": {},
   "source": [
    "# Uso de None\n",
    "En pandas, None es convertido automáticamente a Nan, que es lo mismo si ves la palabra nan simplemente."
   ]
  }
 ],
 "metadata": {
  "language_info": {
   "name": "python"
  }
 },
 "nbformat": 4,
 "nbformat_minor": 2
}
