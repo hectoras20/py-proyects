{
 "cells": [
  {
   "cell_type": "markdown",
   "metadata": {},
   "source": [
    "# Pandas para manipulación y análisis de datos\n",
    "\n",
    "Esta construida sobre la base de Numpy, las dos estructuras principales que ofrece pandas son:\n",
    "- Series\n",
    "- Dataframes\n",
    "Si buscas roles como científico de datos, analista, ingeniero de datos o incluso bussiness inteligence uno de los skills que necesitas es el uso de pandas, ademas lo puedes aplicar a un proyecto que añadirás a tu portafolio, puedes usar datasets liberados, estos los podemos encontrar en:\n",
    "- Kaggle\n",
    "- Repositorio de Machine Learning UCI\n",
    "\n",
    "En este caso usaremos el DataSet Online Retail donde identificaremos los productos más vendidos, analizar el comportamiento de clientes y picos de ventas.\n"
   ]
  },
  {
   "cell_type": "code",
   "execution_count": 2,
   "metadata": {},
   "outputs": [
    {
     "name": "stdout",
     "output_type": "stream",
     "text": [
      "<class 'pandas.core.frame.DataFrame'>\n",
      "Información del CSV:\n",
      "        InvoiceNo StockCode                          Description  Quantity  \\\n",
      "0         536365    85123A   WHITE HANGING HEART T-LIGHT HOLDER         6   \n",
      "1         536365     71053                  WHITE METAL LANTERN         6   \n",
      "2         536365    84406B       CREAM CUPID HEARTS COAT HANGER         8   \n",
      "3         536365    84029G  KNITTED UNION FLAG HOT WATER BOTTLE         6   \n",
      "4         536365    84029E       RED WOOLLY HOTTIE WHITE HEART.         6   \n",
      "...          ...       ...                                  ...       ...   \n",
      "541904    581587     22613          PACK OF 20 SPACEBOY NAPKINS        12   \n",
      "541905    581587     22899         CHILDREN'S APRON DOLLY GIRL          6   \n",
      "541906    581587     23254        CHILDRENS CUTLERY DOLLY GIRL          4   \n",
      "541907    581587     23255      CHILDRENS CUTLERY CIRCUS PARADE         4   \n",
      "541908    581587     22138        BAKING SET 9 PIECE RETROSPOT          3   \n",
      "\n",
      "          InvoiceDate  UnitPrice  CustomerID         Country  \n",
      "0        12/1/10 8:26       2.55     17850.0  United Kingdom  \n",
      "1        12/1/10 8:26       3.39     17850.0  United Kingdom  \n",
      "2        12/1/10 8:26       2.75     17850.0  United Kingdom  \n",
      "3        12/1/10 8:26       3.39     17850.0  United Kingdom  \n",
      "4        12/1/10 8:26       3.39     17850.0  United Kingdom  \n",
      "...               ...        ...         ...             ...  \n",
      "541904  12/9/11 12:50       0.85     12680.0          France  \n",
      "541905  12/9/11 12:50       2.10     12680.0          France  \n",
      "541906  12/9/11 12:50       4.15     12680.0          France  \n",
      "541907  12/9/11 12:50       4.15     12680.0          France  \n",
      "541908  12/9/11 12:50       4.95     12680.0          France  \n",
      "\n",
      "[541909 rows x 8 columns]\n"
     ]
    }
   ],
   "source": [
    "import pandas as pd\n",
    "path = '/Users/hectorastudillo/py-proyects/data-analysis/pandas/Online_Retail.csv'\n",
    "retail_data = pd.read_csv(path, encoding='latin1') #Se agregó un argumento de más que corrige la codificación del archivo pues por defecto en este caso NO esta en utf-8\n",
    "\n",
    "#retail_data = pd.read_csv(path, encoding='utf-8', errors='ignore')\n",
    "\n",
    "print(type(retail_data))\n",
    "#Estamos trabajando con una clase propia de la libreria\n",
    "print('Información del CSV:\\n',retail_data)"
   ]
  },
  {
   "cell_type": "markdown",
   "metadata": {},
   "source": [
    "Si bien nuestra información esta en formato CSV, tambien la podemos presentar en formato de Excel o JSON...\n",
    "- data_excel = pd.read_excel(path)\n",
    "- data_json = pd.read_json(path)\n",
    "\n",
    "# Consejo:\n",
    "Cuando te estes postulando a un puesto de trabajo trata de identificar que tipo de problemas se quiere resolver, entonces cuando estemos desarrollando nuestro portafolio debemos de seleccionar a un set de datos similar a los problemas que se enfrenta la empresa.\n",
    "\n",
    "# DataFrames\n",
    "Veremos como crear dataframes con pandas. \n",
    "Un dataframe en pandas es una estructura de datos bidimensional similar a una tabla en una base de datos o archivo excel, contiene columnas y filas en las que cada columna puede contener un tipo de dato diferente lo que lo hace ideal para el análisis de datos.\n",
    "Los dataframes son el corazón de Pandas.\n",
    "Crearemos un dataframe desde el csv que vamos a utilizar que es el Online_retail.csv...\n",
    "Primero veremos el método HEAD de pandas que me trae un resumen de toda la información que tengo."
   ]
  },
  {
   "cell_type": "code",
   "execution_count": null,
   "metadata": {},
   "outputs": [],
   "source": [
    "print(retail_data.head())\n",
    "#Esta es una primera manera de crear un dataframe leyendo desde un csv"
   ]
  },
  {
   "cell_type": "code",
   "execution_count": 6,
   "metadata": {},
   "outputs": [
    {
     "name": "stdout",
     "output_type": "stream",
     "text": [
      "DataFrame creado con Numpy (array/matriz) y Pandas(DataFrame/columnas):\n",
      "    A  B  C\n",
      "0  1  2  3\n",
      "1  4  5  6\n",
      "2  7  8  9\n"
     ]
    }
   ],
   "source": [
    "import numpy as np\n",
    "\n",
    "#Crearemos un array bidimensional\n",
    "data = np.array([[1,2,3], [4,5,6], [7,8,9]])\n",
    "df_from_array = pd.DataFrame(data, columns=['A','B','C']) #Le pasamos de donde obtendrá la infromación, el nombre de las columnas que tendrá nuestro dataframe, esto claramente respecto a la dimensión que tiene nuestra matriz (dimensión 2 array)\n",
    "print('DataFrame creado con Numpy (array/matriz) y Pandas(DataFrame/columnas):\\n',df_from_array)"
   ]
  },
  {
   "cell_type": "markdown",
   "metadata": {},
   "source": [
    "# Los dataframes tambien pueden ser creados a partir de una lista o diccionario..."
   ]
  },
  {
   "cell_type": "code",
   "execution_count": 10,
   "metadata": {},
   "outputs": [
    {
     "name": "stdout",
     "output_type": "stream",
     "text": [
      "DataFrame from a list:\n",
      "    ID  Name  Age\n",
      "0   1  Jhon   23\n",
      "1   2   Ana   24\n",
      "Dataframe from a Dictionary:\n",
      "    ID  Name  Age\n",
      "0   1  Jhon   21\n",
      "1   2   Ana   24\n",
      "DataFrame from a Dict(columns) with List(rows):\n",
      "    ID  Name  Age\n",
      "0   1  Jhon   22\n",
      "1   2   Ana   24\n",
      "2   3  Mike   21\n"
     ]
    }
   ],
   "source": [
    "# Tendremos 3 columnas, id, name y age\n",
    "data = [[1, 'Jhon', 23], [2, 'Ana', 24]]\n",
    "df_from_list = pd.DataFrame(data, columns=['ID', 'Name', 'Age'])\n",
    "print('DataFrame from a list:\\n', df_from_list)\n",
    "\n",
    "#Con diccionarios\n",
    "#Igual tengo una lista pero ahora tendremos una clave o llave que directamente le indicaré con su valor, el primero es ID, luego el nombre con su respectivo valor y edad con su respectivo valor...\n",
    "data = [{'ID': 1,\n",
    "         'Name': 'Jhon',\n",
    "         'Age': 21},\n",
    "        {'ID': 2,\n",
    "         'Name': 'Ana',\n",
    "         'Age': 24}]\n",
    "dt_from_dict = pd.DataFrame(data) #Las columnas ya las especificamos dentro del diccionario directamente\n",
    "print('Dataframe from a Dictionary:\\n', dt_from_dict)\n",
    "\n",
    "#Ahora, puede haber el caso en el que las claves son el nombre de cada columna y cada valor que va a ir acompañado de la clave va a ser una lista...\n",
    "\n",
    "data = {'ID': [1,2,3], \n",
    "        'Name': ['Jhon', 'Ana', 'Mike'],\n",
    "        'Age': [22,24,21]}\n",
    "df_from_dict_list = pd.DataFrame(data)\n",
    "print('DataFrame from a Dict(columns) with List(rows):\\n', df_from_dict_list)"
   ]
  },
  {
   "cell_type": "markdown",
   "metadata": {},
   "source": [
    "En pandas como bien mencionamos tenemos la herramienta principal que son los dataframes QUE SON DATOS BIDIMENSIONALES, LAS MATRICES SON BIDIMENSIONALES, pero en este caso nos referimos a tablas sin embargo, podemos descomponer dataframes en lo que sería una serie\n",
    "\n",
    "# Series\n",
    "Cada serie corresponde a una columna que equivaldría a un dato uni-dimensional, tendriamos una serie ID, nombre y edad, imagina que son las listas en el último código que hicimos..."
   ]
  },
  {
   "cell_type": "code",
   "execution_count": 11,
   "metadata": {},
   "outputs": [
    {
     "name": "stdout",
     "output_type": "stream",
     "text": [
      "DataFrame from Series in a Dict:\n",
      "    ID  Name  Age\n",
      "0   1  Jhon   22\n",
      "1   2   Ana   24\n",
      "2   3  Mike   21\n"
     ]
    }
   ],
   "source": [
    "#Partimos desde un diccionario que tendrá como información de filas una serie...\n",
    "data = {'ID': pd.Series([1,2,3]), \n",
    "        'Name': pd.Series(['Jhon', 'Ana', 'Mike']),\n",
    "        'Age': pd.Series([22,24,21])}\n",
    "\n",
    "df_from_series_dict = pd.DataFrame(data)\n",
    "print('DataFrame from Series in a Dict:\\n', df_from_series_dict)"
   ]
  },
  {
   "cell_type": "markdown",
   "metadata": {},
   "source": [
    "Si usas Google Colab, puedes acceder a tus archivos para su lectura sin necesidad de cargarlo manualmente al contenido de Colab con el sigueinte código a partir de Google Drive:\n",
    "\n",
    "from google.colab import drive\n",
    "\n",
    "drive.mount('/content/drive')\n",
    "path = \"/content/drive/My_drive/online_retail.csv\"\n",
    "\n",
    "data = pd.read_csv(path)\n",
    "print(data.head())"
   ]
  },
  {
   "cell_type": "markdown",
   "metadata": {},
   "source": [
    "Comprender y manipular las estructuras es un proceso fundamental. El núcleo de numpy son los arrays mientras que en pandas son las series y los dataframes. Estas estructuras permiten manejar los datos de manera eficiente y realizar análisis complejos.\n",
    "\n",
    "Una serie en pandas es una estructura uni-dimensional que puede almacenar datos de cualquier tipo, similar a una columna de una tabla.\n",
    "\n",
    "Los dataframes son una estructura bidimensional similar a una tabla en una base de datos, csv o una hoja de excel.\n",
    "\n",
    "- Cuando tenemos la lectura de la información y tenemos el tipo de dato bidimensional estamos tratando con dataframes.\n",
    "\n",
    "- Cuando estamos tratando simplemente con columnas que van a ser datos unidimensionales estamos habalando de series "
   ]
  },
  {
   "cell_type": "code",
   "execution_count": 3,
   "metadata": {},
   "outputs": [
    {
     "name": "stdout",
     "output_type": "stream",
     "text": [
      "Columnas de Online_ratil.csv:\n",
      " Index(['InvoiceNo', 'StockCode', 'Description', 'Quantity', 'InvoiceDate',\n",
      "       'UnitPrice', 'CustomerID', 'Country'],\n",
      "      dtype='object')\n",
      "Número de filas:  541909\n",
      "Número de columnas:  8\n"
     ]
    }
   ],
   "source": [
    "retail_data = pd.read_csv(path, encoding='latin1')\n",
    "\n",
    "# Primero capturamos el nombre de las columnas que podemos hacer para el análisis\n",
    "columns_names = retail_data.columns\n",
    "print('Columnas de Online_ratil.csv:\\n', columns_names)\n",
    "\n",
    "#Para preguntar por la dimensión... preguntamos el numero de filas que tenemos y el numero de las columnas...\n",
    "num_rows, num_columns = retail_data.shape #Este me retorna o me da 2 elementos como respuesta, por ende creamos dos variables \n",
    "print('Número de filas: ', num_rows)\n",
    "print('Número de columnas: ', num_columns)"
   ]
  },
  {
   "cell_type": "code",
   "execution_count": 7,
   "metadata": {},
   "outputs": [
    {
     "name": "stdout",
     "output_type": "stream",
     "text": [
      "Fila que corresponde a la columna \"Cuantity\":\n",
      " 0          6\n",
      "1          6\n",
      "2          8\n",
      "3          6\n",
      "4          6\n",
      "          ..\n",
      "541904    12\n",
      "541905     6\n",
      "541906     4\n",
      "541907     4\n",
      "541908     3\n",
      "Name: Quantity, Length: 541909, dtype: int64\n",
      "Fila 2 que corresponde a la columna \"Cuantity\":\n",
      " 8\n"
     ]
    }
   ],
   "source": [
    "daily_sales = retail_data['Quantity'] #Corresponde al nombre de la columna\n",
    "print('Fila que corresponde a la columna \"Cuantity\":\\n', daily_sales)\n",
    "\n",
    "#PUEDO ESPECIFICAR ADEMÁS UNA FILA EN CONCRETO\n",
    "print('Fila 2 que corresponde a la columna \"Cuantity\":\\n', daily_sales[2])"
   ]
  },
  {
   "cell_type": "markdown",
   "metadata": {},
   "source": [
    "# Descripción estadística con el método describe()\n",
    "En nuestro dataframe tambien podemos obtener una descripción estadística de cada una de las columnas que tienen información CUANTITATIVA, asi como en R, si te das cuenta son procesos que se pueden realizar en R... media, desviación estandar aplicada a una columan lo qie tengo que haces es especificar el nombre del método"
   ]
  },
  {
   "cell_type": "code",
   "execution_count": 10,
   "metadata": {},
   "outputs": [
    {
     "name": "stdout",
     "output_type": "stream",
     "text": [
      "El resumen de Online Retail estadístico es:\n",
      "             Quantity      UnitPrice     CustomerID\n",
      "count  541909.000000  541909.000000  406829.000000\n",
      "mean        9.552250       4.611114   15287.690570\n",
      "std       218.081158      96.759853    1713.600303\n",
      "min    -80995.000000  -11062.060000   12346.000000\n",
      "25%         1.000000       1.250000   13953.000000\n",
      "50%         3.000000       2.080000   15152.000000\n",
      "75%        10.000000       4.130000   16791.000000\n",
      "max     80995.000000   38970.000000   18287.000000\n",
      "La media de la columna especificada \"Cuantity\" es:\n",
      " 9.55224954743324\n",
      "El conteo de la columna Cuantity es:\n",
      " 541909\n"
     ]
    }
   ],
   "source": [
    "summary = retail_data.describe()\n",
    "print('El resumen de Online Retail estadístico es:\\n', summary)\n",
    "#Me dará unicamente 3 columnas ya que son las únicas en las que tenemos números\n",
    "\n",
    "\n",
    "daily_sales = retail_data['Quantity'] \n",
    "#En caso de querer ver la infromación de cada una de las columnas hacemos lo siguiente:\n",
    "mean_value_Cuantity = daily_sales.mean() #Recuerda que daily sales corresponde a una columna, por ende nos dará el promedio de esa columna que especificamos.\n",
    "print('La media de la columna especificada \"Cuantity\" es:\\n', mean_value_Cuantity)\n",
    "\n",
    "#Para obtener la suma usamos variable.sum(), para la media variable.median()\n",
    "\n",
    "#Vamos a hacer un conteo de valores de la columna Cuantity...\n",
    "count_values = daily_sales.count()\n",
    "print('El conteo de la columna Cuantity es:\\n', count_values)"
   ]
  },
  {
   "cell_type": "markdown",
   "metadata": {},
   "source": [
    "# Valores nulos\n",
    "Analiza el siguiente caso de suma y conteo, es claro que cuando es una suma lo tomará el none por un 0 y cuando es un conteo este no tiene valor..."
   ]
  },
  {
   "cell_type": "code",
   "execution_count": 12,
   "metadata": {},
   "outputs": [
    {
     "name": "stdout",
     "output_type": "stream",
     "text": [
      "Suma con valor None es:  120.0\n",
      "El conteo de la Serie dada con valor None es:  4\n"
     ]
    }
   ],
   "source": [
    "import pandas as pd\n",
    "daily_sales = pd.Series([10,20,None,40,50])\n",
    "#Suma\n",
    "total_sum = daily_sales.sum()\n",
    "print('Suma con valor None es: ', total_sum)\n",
    "#Conteo\n",
    "count_values = daily_sales.count()\n",
    "print('El conteo de la Serie dada con valor None es: ', count_values)\n"
   ]
  },
  {
   "cell_type": "markdown",
   "metadata": {},
   "source": [
    "# Método GET\n",
    "Vamos a extraer un número o filas que vamos a especificar donde por defecto tendrémos que son 5...\n",
    "\n",
    "# Consejo:\n",
    "Cuando se nos da entonces información nueva, un DataFrame que analizar lo recomendable es acceder a:\n",
    "- Conocer los encabezados, obtienes los primeras 5 filas con head()\n",
    "- Tener un resumen estadístico con describe\n",
    "- Abundar en cada columna"
   ]
  },
  {
   "cell_type": "code",
   "execution_count": 13,
   "metadata": {},
   "outputs": [
    {
     "data": {
      "text/html": [
       "<div>\n",
       "<style scoped>\n",
       "    .dataframe tbody tr th:only-of-type {\n",
       "        vertical-align: middle;\n",
       "    }\n",
       "\n",
       "    .dataframe tbody tr th {\n",
       "        vertical-align: top;\n",
       "    }\n",
       "\n",
       "    .dataframe thead th {\n",
       "        text-align: right;\n",
       "    }\n",
       "</style>\n",
       "<table border=\"1\" class=\"dataframe\">\n",
       "  <thead>\n",
       "    <tr style=\"text-align: right;\">\n",
       "      <th></th>\n",
       "      <th>InvoiceNo</th>\n",
       "      <th>StockCode</th>\n",
       "      <th>Description</th>\n",
       "      <th>Quantity</th>\n",
       "      <th>InvoiceDate</th>\n",
       "      <th>UnitPrice</th>\n",
       "      <th>CustomerID</th>\n",
       "      <th>Country</th>\n",
       "    </tr>\n",
       "  </thead>\n",
       "  <tbody>\n",
       "    <tr>\n",
       "      <th>0</th>\n",
       "      <td>536365</td>\n",
       "      <td>85123A</td>\n",
       "      <td>WHITE HANGING HEART T-LIGHT HOLDER</td>\n",
       "      <td>6</td>\n",
       "      <td>12/1/10 8:26</td>\n",
       "      <td>2.55</td>\n",
       "      <td>17850.0</td>\n",
       "      <td>United Kingdom</td>\n",
       "    </tr>\n",
       "    <tr>\n",
       "      <th>1</th>\n",
       "      <td>536365</td>\n",
       "      <td>71053</td>\n",
       "      <td>WHITE METAL LANTERN</td>\n",
       "      <td>6</td>\n",
       "      <td>12/1/10 8:26</td>\n",
       "      <td>3.39</td>\n",
       "      <td>17850.0</td>\n",
       "      <td>United Kingdom</td>\n",
       "    </tr>\n",
       "    <tr>\n",
       "      <th>2</th>\n",
       "      <td>536365</td>\n",
       "      <td>84406B</td>\n",
       "      <td>CREAM CUPID HEARTS COAT HANGER</td>\n",
       "      <td>8</td>\n",
       "      <td>12/1/10 8:26</td>\n",
       "      <td>2.75</td>\n",
       "      <td>17850.0</td>\n",
       "      <td>United Kingdom</td>\n",
       "    </tr>\n",
       "    <tr>\n",
       "      <th>3</th>\n",
       "      <td>536365</td>\n",
       "      <td>84029G</td>\n",
       "      <td>KNITTED UNION FLAG HOT WATER BOTTLE</td>\n",
       "      <td>6</td>\n",
       "      <td>12/1/10 8:26</td>\n",
       "      <td>3.39</td>\n",
       "      <td>17850.0</td>\n",
       "      <td>United Kingdom</td>\n",
       "    </tr>\n",
       "    <tr>\n",
       "      <th>4</th>\n",
       "      <td>536365</td>\n",
       "      <td>84029E</td>\n",
       "      <td>RED WOOLLY HOTTIE WHITE HEART.</td>\n",
       "      <td>6</td>\n",
       "      <td>12/1/10 8:26</td>\n",
       "      <td>3.39</td>\n",
       "      <td>17850.0</td>\n",
       "      <td>United Kingdom</td>\n",
       "    </tr>\n",
       "  </tbody>\n",
       "</table>\n",
       "</div>"
      ],
      "text/plain": [
       "  InvoiceNo StockCode                          Description  Quantity  \\\n",
       "0    536365    85123A   WHITE HANGING HEART T-LIGHT HOLDER         6   \n",
       "1    536365     71053                  WHITE METAL LANTERN         6   \n",
       "2    536365    84406B       CREAM CUPID HEARTS COAT HANGER         8   \n",
       "3    536365    84029G  KNITTED UNION FLAG HOT WATER BOTTLE         6   \n",
       "4    536365    84029E       RED WOOLLY HOTTIE WHITE HEART.         6   \n",
       "\n",
       "    InvoiceDate  UnitPrice  CustomerID         Country  \n",
       "0  12/1/10 8:26       2.55     17850.0  United Kingdom  \n",
       "1  12/1/10 8:26       3.39     17850.0  United Kingdom  \n",
       "2  12/1/10 8:26       2.75     17850.0  United Kingdom  \n",
       "3  12/1/10 8:26       3.39     17850.0  United Kingdom  \n",
       "4  12/1/10 8:26       3.39     17850.0  United Kingdom  "
      ]
     },
     "execution_count": 13,
     "metadata": {},
     "output_type": "execute_result"
    }
   ],
   "source": [
    "#Primeras 5 filas\n",
    "retail_data.head()\n",
    "\n",
    "#Para obtener las primeras 8...\n",
    "retail_data.head(8)\n"
   ]
  },
  {
   "cell_type": "markdown",
   "metadata": {},
   "source": [
    "# ILOC y LOC\n",
    "SELECCIÓN DE DATOS.\n",
    "\n",
    "# iloc\n",
    "Nos ayuda a extraer la información del dataframe especificando el índice que eso representa la i\n",
    "\n",
    "# loc\n",
    "Accede a la información especificando la etiqueta y esto lo haremos dando las filas y las columnas \n"
   ]
  },
  {
   "cell_type": "markdown",
   "metadata": {},
   "source": [
    "# Uso de ILOC"
   ]
  },
  {
   "cell_type": "code",
   "execution_count": 15,
   "metadata": {},
   "outputs": [
    {
     "name": "stdout",
     "output_type": "stream",
     "text": [
      "Información de índice 0, primera fila:\n",
      " InvoiceNo                                  536365\n",
      "StockCode                                  85123A\n",
      "Description    WHITE HANGING HEART T-LIGHT HOLDER\n",
      "Quantity                                        6\n",
      "InvoiceDate                          12/1/10 8:26\n",
      "UnitPrice                                    2.55\n",
      "CustomerID                                17850.0\n",
      "Country                            United Kingdom\n",
      "Name: 0, dtype: object\n",
      "Información desde el índice 0 hasta el 5\n",
      ":    InvoiceNo StockCode                          Description  Quantity  \\\n",
      "0    536365    85123A   WHITE HANGING HEART T-LIGHT HOLDER         6   \n",
      "1    536365     71053                  WHITE METAL LANTERN         6   \n",
      "2    536365    84406B       CREAM CUPID HEARTS COAT HANGER         8   \n",
      "3    536365    84029G  KNITTED UNION FLAG HOT WATER BOTTLE         6   \n",
      "4    536365    84029E       RED WOOLLY HOTTIE WHITE HEART.         6   \n",
      "\n",
      "    InvoiceDate  UnitPrice  CustomerID         Country  \n",
      "0  12/1/10 8:26       2.55     17850.0  United Kingdom  \n",
      "1  12/1/10 8:26       3.39     17850.0  United Kingdom  \n",
      "2  12/1/10 8:26       2.75     17850.0  United Kingdom  \n",
      "3  12/1/10 8:26       3.39     17850.0  United Kingdom  \n",
      "4  12/1/10 8:26       3.39     17850.0  United Kingdom  \n"
     ]
    }
   ],
   "source": [
    "first_row = retail_data.iloc[0]\n",
    "print('Información de índice 0, primera fila:\\n', first_row)\n",
    "\n",
    "#Ahora si quiero un chunk, es decir un pedazo de información por ejemplo desde el índice 0 hasta el 5 hacemos lo siguiente\n",
    "first_five_rows = retail_data.iloc[:5]\n",
    "print('Información desde el índice 0 hasta el 5\\n: ', first_five_rows)\n",
    "\n",
    "#Recuerda que tanto las filas como las columnas inician desde 0"
   ]
  },
  {
   "cell_type": "markdown",
   "metadata": {},
   "source": [
    "Recuerda que tanto las filas como las columnas inician desde 0 y tambien puedo tener subsets de las filas y columnas... además de poder acceder a valores dentro de mi data, digamos acceder a valores de celdas."
   ]
  },
  {
   "cell_type": "code",
   "execution_count": null,
   "metadata": {},
   "outputs": [],
   "source": [
    "subset = retail_data.iloc[:3, :2] #Primero van las filas y luego las columnas, el orden normal que se ve, algebra lineal y geometría analítica\n",
    "print('Subset:\\n', subset)\n",
    "\n",
    "#Para acceder a un valor/valor de celda hacemos:\n",
    "retail_value = retail_data.iloc[1,2]\n",
    "print('Valor de celda: ', retail_value)"
   ]
  },
  {
   "cell_type": "markdown",
   "metadata": {},
   "source": [
    "# Uso de LOC\n",
    "Selección de filas con LOC..."
   ]
  },
  {
   "cell_type": "code",
   "execution_count": 17,
   "metadata": {},
   "outputs": [
    {
     "name": "stdout",
     "output_type": "stream",
     "text": [
      "La fila 2 tiene la siguiente información:\n",
      " InvoiceNo                                   536365\n",
      "StockCode                                   84029G\n",
      "Description    KNITTED UNION FLAG HOT WATER BOTTLE\n",
      "Quantity                                         6\n",
      "InvoiceDate                           12/1/10 8:26\n",
      "UnitPrice                                     3.39\n",
      "CustomerID                                 17850.0\n",
      "Country                             United Kingdom\n",
      "Name: 3, dtype: object \n",
      "\n",
      "Información de filas 0-4:\n",
      "   InvoiceNo StockCode                          Description  Quantity  \\\n",
      "0    536365    85123A   WHITE HANGING HEART T-LIGHT HOLDER         6   \n",
      "1    536365     71053                  WHITE METAL LANTERN         6   \n",
      "2    536365    84406B       CREAM CUPID HEARTS COAT HANGER         8   \n",
      "3    536365    84029G  KNITTED UNION FLAG HOT WATER BOTTLE         6   \n",
      "4    536365    84029E       RED WOOLLY HOTTIE WHITE HEART.         6   \n",
      "\n",
      "    InvoiceDate  UnitPrice  CustomerID         Country  \n",
      "0  12/1/10 8:26       2.55     17850.0  United Kingdom  \n",
      "1  12/1/10 8:26       3.39     17850.0  United Kingdom  \n",
      "2  12/1/10 8:26       2.75     17850.0  United Kingdom  \n",
      "3  12/1/10 8:26       3.39     17850.0  United Kingdom  \n",
      "4  12/1/10 8:26       3.39     17850.0  United Kingdom   \n",
      "\n",
      "La información de inicio a fin de la columna Cuantity es:\n",
      " 0          6\n",
      "1          6\n",
      "2          8\n",
      "3          6\n",
      "4          6\n",
      "          ..\n",
      "541904    12\n",
      "541905     6\n",
      "541906     4\n",
      "541907     4\n",
      "541908     3\n",
      "Name: Quantity, Length: 541909, dtype: int64 \n",
      "\n",
      "La información de inicio a fin de la columna Cuantity Y UNITPRICE es:\n",
      "         Quantity  UnitPrice\n",
      "0              6       2.55\n",
      "1              6       3.39\n",
      "2              8       2.75\n",
      "3              6       3.39\n",
      "4              6       3.39\n",
      "...          ...        ...\n",
      "541904        12       0.85\n",
      "541905         6       2.10\n",
      "541906         4       4.15\n",
      "541907         4       4.15\n",
      "541908         3       4.95\n",
      "\n",
      "[541909 rows x 2 columns] \n",
      "\n"
     ]
    }
   ],
   "source": [
    "row_index_3 = retail_data.loc[3]\n",
    "print('La fila 2 tiene la siguiente información:\\n', row_index_3, '\\n')\n",
    "#Chunk\n",
    "row_index_ch = retail_data.loc[:4]\n",
    "print('Información de filas 0-4:\\n', row_index_ch,'\\n')\n",
    "\n",
    "#Ahora vamos a especificar la eetiqueta/nombre de la columna con la que quiero trabajar, estamos trabajando de la misma manerea con Cuantity\n",
    "\n",
    "cuantity_columns = retail_data.loc[: , 'Quantity'] #Los argumentos son... de que fila a que fila y el nombre de la columna\n",
    "print('La información de inicio a fin de la columna Cuantity es:\\n', cuantity_columns,'\\n')\n",
    "\n",
    "#Tambien puedo hacer la selección de mas de una columna...\n",
    "cuantity_unitprices_columns = retail_data.loc[: , ['Quantity', 'UnitPrice']] #Los argumentos son... de que fila a que fila y el nombre de las columnas, FIJATE QUE LE DEBO DE PASAR UNA LISTA, no es un tercer argumento la otra columna que quiero consultar\n",
    "print('La información de inicio a fin de la columna Cuantity Y UNITPRICE es:\\n', cuantity_unitprices_columns,'\\n')"
   ]
  },
  {
   "cell_type": "markdown",
   "metadata": {},
   "source": [
    "# Consejo: Divide tu información en porciones para un mejor análisis, limpieza o extracción de información, todo depende de que es lo que quieres realizar."
   ]
  },
  {
   "cell_type": "markdown",
   "metadata": {},
   "source": [
    "# Manejo de datos faltantes en Pandas\n",
    "Pueden surgir errores en la recolección de datos, problemas de almacenamiento o simplemente porque ciertos datos no estaban disponibles al momento del registro.\n",
    "Todo esto puede llevar a conclusiones erroneas y decisiones empresariales equivocadas.\n",
    "Existen varias maneras de corroborara que haya datos o no. Dentro de Pandas tenemos dos principales para preguntar si el dato está o no está disponible o si el dato es NULO\n",
    "Primero vamos a identificar cuales son los datos faltantes... (Que no estan disponiles) con el método isna()"
   ]
  },
  {
   "cell_type": "code",
   "execution_count": null,
   "metadata": {},
   "outputs": [],
   "source": [
    "missing_data = retail_data.isna()\n",
    "print('Datos No dispoibles (True):\\n', missing_data)\n",
    "\n",
    "#Si quiero solo los primeras 5 filas...\n",
    "print('Primeros 5 datos:\\n', missing_data.head())\n"
   ]
  },
  {
   "cell_type": "markdown",
   "metadata": {},
   "source": [
    "Quiero contar cuantos datos faltantes tenemos, pues tenemos varias filas de información y lo que nos queda es indigar por columna o fila\n",
    "\n",
    "Ya que una vez sabiendo si hay datos faltantes o no dentro de nuestro set de datos tenemos dos opciones principales...\n",
    "- Eliminar esas filas o campos donde esta nulo\n",
    "- Llenar estos valores haciendo un cambio\n",
    "\n",
    "# dropna()\n",
    "Hay que tener cuidado pues si hay con tan solo un elemento dentro de la columna sin información o no esta diponible este método de la igual forma LO ELIMINARÁ.\n",
    "\n",
    "Hay más tratamientos que podríamos aplicar..."
   ]
  },
  {
   "cell_type": "code",
   "execution_count": 18,
   "metadata": {},
   "outputs": [
    {
     "name": "stdout",
     "output_type": "stream",
     "text": [
      "Conteo de datos faltantes por columna:\n",
      " InvoiceNo           0\n",
      "StockCode           0\n",
      "Description      1454\n",
      "Quantity            0\n",
      "InvoiceDate         0\n",
      "UnitPrice           0\n",
      "CustomerID     135080\n",
      "Country             0\n",
      "dtype: int64 \n",
      "\n",
      "Eliminar esa información NO disponible... (FILAS)\n",
      "\n",
      "Información completa, se eliminaron las filas sin información:\n",
      "        InvoiceNo StockCode                          Description  Quantity  \\\n",
      "0         536365    85123A   WHITE HANGING HEART T-LIGHT HOLDER         6   \n",
      "1         536365     71053                  WHITE METAL LANTERN         6   \n",
      "2         536365    84406B       CREAM CUPID HEARTS COAT HANGER         8   \n",
      "3         536365    84029G  KNITTED UNION FLAG HOT WATER BOTTLE         6   \n",
      "4         536365    84029E       RED WOOLLY HOTTIE WHITE HEART.         6   \n",
      "...          ...       ...                                  ...       ...   \n",
      "541904    581587     22613          PACK OF 20 SPACEBOY NAPKINS        12   \n",
      "541905    581587     22899         CHILDREN'S APRON DOLLY GIRL          6   \n",
      "541906    581587     23254        CHILDRENS CUTLERY DOLLY GIRL          4   \n",
      "541907    581587     23255      CHILDRENS CUTLERY CIRCUS PARADE         4   \n",
      "541908    581587     22138        BAKING SET 9 PIECE RETROSPOT          3   \n",
      "\n",
      "          InvoiceDate  UnitPrice  CustomerID         Country  \n",
      "0        12/1/10 8:26       2.55     17850.0  United Kingdom  \n",
      "1        12/1/10 8:26       3.39     17850.0  United Kingdom  \n",
      "2        12/1/10 8:26       2.75     17850.0  United Kingdom  \n",
      "3        12/1/10 8:26       3.39     17850.0  United Kingdom  \n",
      "4        12/1/10 8:26       3.39     17850.0  United Kingdom  \n",
      "...               ...        ...         ...             ...  \n",
      "541904  12/9/11 12:50       0.85     12680.0          France  \n",
      "541905  12/9/11 12:50       2.10     12680.0          France  \n",
      "541906  12/9/11 12:50       4.15     12680.0          France  \n",
      "541907  12/9/11 12:50       4.15     12680.0          France  \n",
      "541908  12/9/11 12:50       4.95     12680.0          France  \n",
      "\n",
      "[406829 rows x 8 columns]\n",
      "\n",
      "Agregar información faltante con 0...\n",
      "\n",
      "Información completa de Online Retail con valores 0 en donde no había disponibilidad de datos:\n",
      "        InvoiceNo StockCode                          Description  Quantity  \\\n",
      "0         536365    85123A   WHITE HANGING HEART T-LIGHT HOLDER         6   \n",
      "1         536365     71053                  WHITE METAL LANTERN         6   \n",
      "2         536365    84406B       CREAM CUPID HEARTS COAT HANGER         8   \n",
      "3         536365    84029G  KNITTED UNION FLAG HOT WATER BOTTLE         6   \n",
      "4         536365    84029E       RED WOOLLY HOTTIE WHITE HEART.         6   \n",
      "...          ...       ...                                  ...       ...   \n",
      "541904    581587     22613          PACK OF 20 SPACEBOY NAPKINS        12   \n",
      "541905    581587     22899         CHILDREN'S APRON DOLLY GIRL          6   \n",
      "541906    581587     23254        CHILDRENS CUTLERY DOLLY GIRL          4   \n",
      "541907    581587     23255      CHILDRENS CUTLERY CIRCUS PARADE         4   \n",
      "541908    581587     22138        BAKING SET 9 PIECE RETROSPOT          3   \n",
      "\n",
      "          InvoiceDate  UnitPrice  CustomerID         Country  \n",
      "0        12/1/10 8:26       2.55     17850.0  United Kingdom  \n",
      "1        12/1/10 8:26       3.39     17850.0  United Kingdom  \n",
      "2        12/1/10 8:26       2.75     17850.0  United Kingdom  \n",
      "3        12/1/10 8:26       3.39     17850.0  United Kingdom  \n",
      "4        12/1/10 8:26       3.39     17850.0  United Kingdom  \n",
      "...               ...        ...         ...             ...  \n",
      "541904  12/9/11 12:50       0.85     12680.0          France  \n",
      "541905  12/9/11 12:50       2.10     12680.0          France  \n",
      "541906  12/9/11 12:50       4.15     12680.0          France  \n",
      "541907  12/9/11 12:50       4.15     12680.0          France  \n",
      "541908  12/9/11 12:50       4.95     12680.0          France  \n",
      "\n",
      "[541909 rows x 8 columns]\n",
      "\n",
      "Accedemos de nuevo a la suma de valores con entrada None o NO disponible...\n",
      "\n",
      "Suma de datos faltantes después de proceso de relleno:\n",
      " InvoiceNo      0\n",
      "StockCode      0\n",
      "Description    0\n",
      "Quantity       0\n",
      "InvoiceDate    0\n",
      "UnitPrice      0\n",
      "CustomerID     0\n",
      "Country        0\n",
      "dtype: int64\n"
     ]
    }
   ],
   "source": [
    "missing_data_count = retail_data.isna().sum()\n",
    "#El conteo lo realiza por COLUMNA\n",
    "print('Conteo de datos faltantes por columna:\\n', missing_data_count, '\\n')\n",
    "\n",
    "print('Eliminar esa información NO disponible... (FILAS)\\n')\n",
    "#Queremos acceder a los datos que no se estan perdiendo...\n",
    "no_missing_rows = retail_data.dropna()\n",
    "print('Información completa, se eliminaron las filas sin información:\\n', no_missing_rows)\n",
    "\n",
    "print('\\nAgregar información faltante con 0...\\n')\n",
    "retail_data_filled_zeros = retail_data.fillna(0)\n",
    "print('Información completa de Online Retail con valores 0 en donde no había disponibilidad de datos:\\n', retail_data_filled_zeros)\n",
    "\n",
    "print('\\nAccedemos de nuevo a la suma de valores con entrada None o NO disponible...\\n')\n",
    "print('Suma de datos faltantes después de proceso de relleno:\\n', retail_data_filled_zeros.isna().sum())"
   ]
  },
  {
   "cell_type": "markdown",
   "metadata": {},
   "source": [
    "Podemos llenar los datos faltantes pero con térnicas estadísticas como bien lo pueden ser hallar la media de la columna y en los datos que no tenemos isnertarlos ahi para no tener una modificación mas grande"
   ]
  },
  {
   "cell_type": "code",
   "execution_count": 21,
   "metadata": {},
   "outputs": [
    {
     "name": "stdout",
     "output_type": "stream",
     "text": [
      "Columna UnitPrices rellena en campos faltantes con la media de la columna:\n",
      " 0         2.55\n",
      "1         3.39\n",
      "2         2.75\n",
      "3         3.39\n",
      "4         3.39\n",
      "          ... \n",
      "541904    0.85\n",
      "541905    2.10\n",
      "541906    4.15\n",
      "541907    4.15\n",
      "541908    4.95\n",
      "Name: UnitPrice, Length: 541909, dtype: float64\n"
     ]
    }
   ],
   "source": [
    "mean_unit_price = retail_data['UnitPrice'].mean()\n",
    "retail_column_filled_mean = retail_data['UnitPrice'].fillna(mean_unit_price)\n",
    "print('Columna UnitPrices rellena en campos faltantes con la media de la columna:\\n', retail_column_filled_mean)"
   ]
  },
  {
   "cell_type": "markdown",
   "metadata": {},
   "source": [
    "# Manipulación de columnas \n",
    "En este caso veremos la creación de columnas, esto lo haremos a partir de:\n",
    "- Dos columnas de nuestro dataframe (operaciones entre ellas)\n",
    "- A travéz de condicionales con valores de tipo booleano"
   ]
  },
  {
   "cell_type": "code",
   "execution_count": null,
   "metadata": {},
   "outputs": [
    {
     "name": "stdout",
     "output_type": "stream",
     "text": [
      "  InvoiceNo StockCode                          Description  Quantity  \\\n",
      "0    536365    85123A   WHITE HANGING HEART T-LIGHT HOLDER         6   \n",
      "1    536365     71053                  WHITE METAL LANTERN         6   \n",
      "2    536365    84406B       CREAM CUPID HEARTS COAT HANGER         8   \n",
      "3    536365    84029G  KNITTED UNION FLAG HOT WATER BOTTLE         6   \n",
      "4    536365    84029E       RED WOOLLY HOTTIE WHITE HEART.         6   \n",
      "\n",
      "    InvoiceDate  UnitPrice  CustomerID         Country  TotalPrice  \n",
      "0  12/1/10 8:26       2.55     17850.0  United Kingdom       15.30  \n",
      "1  12/1/10 8:26       3.39     17850.0  United Kingdom       20.34  \n",
      "2  12/1/10 8:26       2.75     17850.0  United Kingdom       22.00  \n",
      "3  12/1/10 8:26       3.39     17850.0  United Kingdom       20.34  \n",
      "4  12/1/10 8:26       3.39     17850.0  United Kingdom       20.34  \n"
     ]
    }
   ],
   "source": [
    "import pandas as pd\n",
    "\n",
    "df = pd.read_csv('/Users/hectorastudillo/py-proyects/data-analysis/pandas/Online_Retail.csv', encoding='latin1') \n",
    "\n",
    "\n",
    "df['TotalPrice'] = df['Quantity'] * df['UnitPrice'] #Con ello ya está añadido la nueva columna\n",
    "print(df.head()) #Observamos las primeras 5 filas\n",
    "\n",
    "df['HighValue'] = df['TotalPrice'] > 16\n",
    "print(df['HighValue'].head(10))"
   ]
  },
  {
   "cell_type": "markdown",
   "metadata": {},
   "source": [
    "Pandas por defecto captura el tipo de dato que tiene cada columna y esto puede ir variando a menos que nosotros le especifiquemos, para ello podemos obtener información a partir del método info()"
   ]
  },
  {
   "cell_type": "code",
   "execution_count": null,
   "metadata": {},
   "outputs": [],
   "source": [
    "print('Información del DataFrame:\\n', df.info())\n",
    "#Trabajaremos en este caso con InvoiceDate que pandas lo identifica que es de tipo object, sin embargo especificaremos que es de tipo Date para una mejor manipulación\n",
    "\n",
    "df['InvoiceDate'] = pd.to_datetime(df['InvoiceDate']) #Sobre que columna se hará el cambio o que columna se creará. Luego va que columna se ve involucrada, de donde tomará la información digamos. En este caso es un cambio sobre una columna ya existente en ell dataframe y su misma información.\n"
   ]
  },
  {
   "cell_type": "markdown",
   "metadata": {},
   "source": [
    "# Lambda\n",
    "En pandas tambien podemos aplicar la función lambda pero en este caso aplicará a cada una de las columnas la operación que nosotros vamos a especificar...\n",
    "Vamos a crear otra columna que aplicará lambda."
   ]
  },
  {
   "cell_type": "code",
   "execution_count": 3,
   "metadata": {},
   "outputs": [
    {
     "name": "stdout",
     "output_type": "stream",
     "text": [
      "  InvoiceNo StockCode                          Description  Quantity  \\\n",
      "0    536365    85123A   WHITE HANGING HEART T-LIGHT HOLDER         6   \n",
      "1    536365     71053                  WHITE METAL LANTERN         6   \n",
      "2    536365    84406B       CREAM CUPID HEARTS COAT HANGER         8   \n",
      "3    536365    84029G  KNITTED UNION FLAG HOT WATER BOTTLE         6   \n",
      "4    536365    84029E       RED WOOLLY HOTTIE WHITE HEART.         6   \n",
      "\n",
      "    InvoiceDate  UnitPrice  CustomerID         Country  TotalPrice  \\\n",
      "0  12/1/10 8:26       2.55     17850.0  United Kingdom       15.30   \n",
      "1  12/1/10 8:26       3.39     17850.0  United Kingdom       20.34   \n",
      "2  12/1/10 8:26       2.75     17850.0  United Kingdom       22.00   \n",
      "3  12/1/10 8:26       3.39     17850.0  United Kingdom       20.34   \n",
      "4  12/1/10 8:26       3.39     17850.0  United Kingdom       20.34   \n",
      "\n",
      "   DiscountPrice  \n",
      "0          2.295  \n",
      "1          3.051  \n",
      "2          2.475  \n",
      "3          3.051  \n",
      "4          3.051  \n"
     ]
    }
   ],
   "source": [
    "df['DiscountPrice'] = df['UnitPrice'].apply(lambda x : x*0.9)\n",
    "print(df.head())"
   ]
  },
  {
   "cell_type": "markdown",
   "metadata": {},
   "source": [
    "Tambien podemos aplicar una función a cada una de nuestras filas también utilizando el método apply, ten encunta que podemos tener transformaciones con datos categóricos y no solo numéricos."
   ]
  },
  {
   "cell_type": "code",
   "execution_count": 4,
   "metadata": {},
   "outputs": [
    {
     "name": "stdout",
     "output_type": "stream",
     "text": [
      "  InvoiceNo StockCode                          Description  Quantity  \\\n",
      "0    536365    85123A   WHITE HANGING HEART T-LIGHT HOLDER         6   \n",
      "1    536365     71053                  WHITE METAL LANTERN         6   \n",
      "2    536365    84406B       CREAM CUPID HEARTS COAT HANGER         8   \n",
      "3    536365    84029G  KNITTED UNION FLAG HOT WATER BOTTLE         6   \n",
      "4    536365    84029E       RED WOOLLY HOTTIE WHITE HEART.         6   \n",
      "\n",
      "    InvoiceDate  UnitPrice  CustomerID         Country  TotalPrice  \\\n",
      "0  12/1/10 8:26       2.55     17850.0  United Kingdom       15.30   \n",
      "1  12/1/10 8:26       3.39     17850.0  United Kingdom       20.34   \n",
      "2  12/1/10 8:26       2.75     17850.0  United Kingdom       22.00   \n",
      "3  12/1/10 8:26       3.39     17850.0  United Kingdom       20.34   \n",
      "4  12/1/10 8:26       3.39     17850.0  United Kingdom       20.34   \n",
      "\n",
      "   DiscountPrice PriceCategory  \n",
      "0          2.295        Medium  \n",
      "1          3.051        Medium  \n",
      "2          2.475        Medium  \n",
      "3          3.051        Medium  \n",
      "4          3.051        Medium  \n"
     ]
    }
   ],
   "source": [
    "def categorize_price(price): #Para cada uno de los UnitPrices lo que haremos es categorizar de la siguiente manera:\n",
    "    if price > 50:\n",
    "        return 'High'\n",
    "    elif price < 20:\n",
    "        return 'Medium'\n",
    "    else:\n",
    "        return 'Low'\n",
    "    \n",
    "#Como esa función queremos aplciarlo a nuestro dataframe hacemos lo siguiente:\n",
    "df['PriceCategory'] = df['UnitPrice'].apply(categorize_price) \n",
    "#Recuerda, sobre que columna se aplicará la información o de no existir se crea. Luego va de que columna tomará la información.\n",
    "print(df.head()) #Obtenemos las primeras 5 filas"
   ]
  }
 ],
 "metadata": {
  "kernelspec": {
   "display_name": "env_analysis",
   "language": "python",
   "name": "python3"
  },
  "language_info": {
   "codemirror_mode": {
    "name": "ipython",
    "version": 3
   },
   "file_extension": ".py",
   "mimetype": "text/x-python",
   "name": "python",
   "nbconvert_exporter": "python",
   "pygments_lexer": "ipython3",
   "version": "3.9.6"
  }
 },
 "nbformat": 4,
 "nbformat_minor": 2
}
