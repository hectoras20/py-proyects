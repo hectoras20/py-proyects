{
 "cells": [
  {
   "cell_type": "markdown",
   "metadata": {},
   "source": [
    "# Obtención de dataset\n",
    "## Propósito: Adaptar un dataset para calcular la esperanza de vida tras COVID-19 en Guerrero de un rango de edades de 0 a 108 años.\n",
    "Los siguientes datasets contienen la información de defunciones registradas sobre los casos asociados a COVID-19.\n",
    "\n",
    "Esta información es proporcionada por el Gobierno de México en su página oficial, consultese:\n",
    "https://www.gob.mx/salud/documentos/datos-abiertos-bases-historicas-direccion-general-de-epidemiologia\n",
    "\n",
    "Tomamos en cuenta la información de los años cuyos datos son CERRADOS de 2020 a 2023 ya que los años siguientes aún siguen abiertos (no concluidos en su totalidad y ante posibles modificaciones o revisiones).\n"
   ]
  },
  {
   "cell_type": "markdown",
   "metadata": {},
   "source": [
    "# CARGAR INFORMACIÓN \n",
    "El manejo de información será con la librería \"Pandas\".\n",
    "Fuentes de información principales y consultadas unicamente para esta delimitación de información:\n",
    "- GOB.MX\n",
    "- Secretaria de Salud de Guerrero\n",
    "- CONAPO"
   ]
  },
  {
   "cell_type": "code",
   "execution_count": null,
   "metadata": {},
   "outputs": [
    {
     "name": "stderr",
     "output_type": "stream",
     "text": [
      "/var/folders/kz/rybrs64563zc2gl94rf00qbw0000gn/T/ipykernel_24250/3885522343.py:9: DtypeWarning: Columns (38) have mixed types. Specify dtype option on import or set low_memory=False.\n",
      "  data2020 = pd.read_csv(filepath2020)\n",
      "/var/folders/kz/rybrs64563zc2gl94rf00qbw0000gn/T/ipykernel_24250/3885522343.py:10: DtypeWarning: Columns (38) have mixed types. Specify dtype option on import or set low_memory=False.\n",
      "  data2021 = pd.read_csv(filepath2021)\n",
      "/var/folders/kz/rybrs64563zc2gl94rf00qbw0000gn/T/ipykernel_24250/3885522343.py:11: DtypeWarning: Columns (38) have mixed types. Specify dtype option on import or set low_memory=False.\n",
      "  data2022 = pd.read_csv(filepath2022)\n"
     ]
    }
   ],
   "source": [
    "import pandas as pd\n",
    "\n",
    "#Estas son las rutas en donde yo las tengo guardadas para consultar.\n",
    "filepath2020 = '/Users/hectorastudillo/Downloads/dataset_covid/COVID19MEXICO2020.csv'\n",
    "filepath2021 = '/Users/hectorastudillo/Downloads/dataset_covid/COVID19MEXICO2021.csv'\n",
    "filepath2022 = '/Users/hectorastudillo/Downloads/dataset_covid/COVID19MEXICO2022.csv'\n",
    "filepath2023 = '/Users/hectorastudillo/Downloads/dataset_covid/COVID19MEXICO2023.csv'\n",
    "\n",
    "data2020 = pd.read_csv(filepath2020)\n",
    "data2021 = pd.read_csv(filepath2021)\n",
    "data2022 = pd.read_csv(filepath2022)\n",
    "data2023 = pd.read_csv(filepath2023)"
   ]
  },
  {
   "cell_type": "markdown",
   "metadata": {},
   "source": [
    "# Exploración de datos\n",
    "Podemos verificar que nuestra información haya sido correctamente cargada y analizar que columnas contiene cada dataset y ver que proceso de depuración o limpieza de datos podemos hacer con ella, recordemos que nuestro principal objetivo es conocer el número de muertes delimitado para el estado de Guerrero en un rango de edad de 0 a 108 años, entonces veamos que nos puede ser útil."
   ]
  },
  {
   "cell_type": "code",
   "execution_count": 23,
   "metadata": {},
   "outputs": [
    {
     "name": "stdout",
     "output_type": "stream",
     "text": [
      "<class 'pandas.core.frame.DataFrame'>\n",
      "RangeIndex: 8830345 entries, 0 to 8830344\n",
      "Data columns (total 40 columns):\n",
      " #   Column                 Dtype \n",
      "---  ------                 ----- \n",
      " 0   FECHA_ACTUALIZACION    object\n",
      " 1   ID_REGISTRO            object\n",
      " 2   ORIGEN                 int64 \n",
      " 3   SECTOR                 int64 \n",
      " 4   ENTIDAD_UM             int64 \n",
      " 5   SEXO                   int64 \n",
      " 6   ENTIDAD_NAC            int64 \n",
      " 7   ENTIDAD_RES            int64 \n",
      " 8   MUNICIPIO_RES          int64 \n",
      " 9   TIPO_PACIENTE          int64 \n",
      " 10  FECHA_INGRESO          object\n",
      " 11  FECHA_SINTOMAS         object\n",
      " 12  FECHA_DEF              object\n",
      " 13  INTUBADO               int64 \n",
      " 14  NEUMONIA               int64 \n",
      " 15  EDAD                   int64 \n",
      " 16  NACIONALIDAD           int64 \n",
      " 17  EMBARAZO               int64 \n",
      " 18  HABLA_LENGUA_INDIG     int64 \n",
      " 19  INDIGENA               int64 \n",
      " 20  DIABETES               int64 \n",
      " 21  EPOC                   int64 \n",
      " 22  ASMA                   int64 \n",
      " 23  INMUSUPR               int64 \n",
      " 24  HIPERTENSION           int64 \n",
      " 25  OTRA_COM               int64 \n",
      " 26  CARDIOVASCULAR         int64 \n",
      " 27  OBESIDAD               int64 \n",
      " 28  RENAL_CRONICA          int64 \n",
      " 29  TABAQUISMO             int64 \n",
      " 30  OTRO_CASO              int64 \n",
      " 31  TOMA_MUESTRA_LAB       int64 \n",
      " 32  RESULTADO_LAB          int64 \n",
      " 33  TOMA_MUESTRA_ANTIGENO  int64 \n",
      " 34  RESULTADO_ANTIGENO     int64 \n",
      " 35  CLASIFICACION_FINAL    int64 \n",
      " 36  MIGRANTE               int64 \n",
      " 37  PAIS_NACIONALIDAD      object\n",
      " 38  PAIS_ORIGEN            object\n",
      " 39  UCI                    int64 \n",
      "dtypes: int64(33), object(7)\n",
      "memory usage: 2.6+ GB\n",
      "Información de 2021:\n",
      " None\n"
     ]
    }
   ],
   "source": [
    "print('Información de 2021:\\n', data2021.info())"
   ]
  },
  {
   "cell_type": "markdown",
   "metadata": {},
   "source": [
    "# Consideraciones y observaciones\n",
    "## Veracidad de información\n",
    "- Consultando una de nuestras fuentes de información que se anexa en referencias bibliográficas se menciona que *La Secretaría de Salud Guerrero (SSG) informó de 4,123 fallecimientos por COVID-19 en el año 2021.*\n",
    "Este es nuestro valor de referencia para saber si los datos **una vez filtrados** corresponden a dicha información, sin embargo **NO podemos trabajar con información que no aporta valor a nuestro modelo** esto ocurre con la fecha registrada de defunción dentro de cada dataset de 2020 a 2023 pues o no hay fecha de registro de muerte o se asignaron valores que no corresponden a un formato fecha (a un tipo de dato DateTime), entonces estos datos al no aportarnos valor serán omitidos/eliminados sin perder la escencia de que conocemos un aproximado de nuestros datos.\n",
    "\n",
    "- Como mencionabamos, el tipo de dato para este proceso de manipulación y filtrado es MUY importante, si bien nuestro principal obejtivo son las defunciones por edad en el estado de Guerrero haremos la conversión de manera general por si este dataset se requiere para el calculo de algún otro estado o con otro modelo.\n",
    "Esto se logrra observar en las columnas que indican ser de entrada FECHA pero tiene un tipo de dato OBJETO como lo es:\n",
    "    - FECHA_INGRESO\n",
    "    - FECHA_SINTOMAS\n",
    "    - FECHA_DEF (el cual es de nuestro principal interés)"
   ]
  },
  {
   "cell_type": "markdown",
   "metadata": {},
   "source": [
    "Con respecto a la observación de valores que no corresponden a un formato de fecha y/o tienen valores mal registrados, se logró observar tras la exxploración de valores únicos que contiene cada columna con el siguiente código que se muestra a continuación:\n",
    "Dicho código fue construido con base a Programación 1 (parte 1 )y parte de mis proyectos de repositorio publicados en github, en la sección de AnalisisDatos/Pandas (parte 2), consultese: \n",
    "https://github.com/hectoras20/py-proyects"
   ]
  },
  {
   "cell_type": "code",
   "execution_count": 24,
   "metadata": {},
   "outputs": [
    {
     "name": "stdout",
     "output_type": "stream",
     "text": [
      "0 = Datos del 2020\n",
      "1 = Datos del 2021\n",
      "2 = Datos del 2022\n",
      "3 = Datos del 2023\n",
      "[S] Salir\n",
      "DATOS SELECCIONADOS DE:  2021\n",
      "Column: FECHA_ACTUALIZACION\n",
      "Number of unique values: 1\n",
      "Unique values: ['2022-08-09']\n",
      "--------------------\n",
      "Column: ID_REGISTRO\n",
      "Number of unique values: 8830345\n",
      "Unique values: ['z53cb3' 'zze974' 'zz7202' 'z405fd' 'z26b82' 'z23d9d' '1009d6' 'z5c8ce'\n",
      " '0c5c89' '17a7b4']\n",
      "--------------------\n",
      "Column: ORIGEN\n",
      "Number of unique values: 2\n",
      "Unique values: [2 1]\n",
      "--------------------\n",
      "Column: SECTOR\n",
      "Number of unique values: 15\n",
      "Unique values: [12  6  9  4 10  3  5  8 11  7]\n",
      "--------------------\n",
      "Column: ENTIDAD_UM\n",
      "Number of unique values: 32\n",
      "Unique values: [ 9 24 16 22 30 14 27  7 15 26]\n",
      "--------------------\n",
      "Column: SEXO\n",
      "Number of unique values: 2\n",
      "Unique values: [2 1]\n",
      "--------------------\n",
      "Column: ENTIDAD_NAC\n",
      "Number of unique values: 33\n",
      "Unique values: [ 9 24 16 30 14 27  7 15  2 25]\n",
      "--------------------\n",
      "Column: ENTIDAD_RES\n",
      "Number of unique values: 32\n",
      "Unique values: [ 9 24 16 22 30 14 27  7 15  2]\n",
      "--------------------\n",
      "Column: MUNICIPIO_RES\n",
      "Number of unique values: 562\n",
      "Unique values: [  2  35 112  11   7   9  85 120  16  28]\n",
      "--------------------\n",
      "Column: TIPO_PACIENTE\n",
      "Number of unique values: 2\n",
      "Unique values: [1 2]\n",
      "--------------------\n",
      "Column: FECHA_INGRESO\n",
      "Number of unique values: 426\n",
      "Unique values: ['2021-01-16' '2021-02-28' '2021-01-13' '2021-01-25' '2021-01-14'\n",
      " '2021-01-05' '2021-02-17' '2021-01-09' '2021-01-22' '2021-01-29']\n",
      "--------------------\n",
      "Column: FECHA_SINTOMAS\n",
      "Number of unique values: 365\n",
      "Unique values: ['2021-01-13' '2021-02-20' '2021-01-17' '2021-01-10' '2021-01-05'\n",
      " '2021-02-14' '2021-01-08' '2021-01-03' '2021-01-22' '2021-01-27']\n",
      "--------------------\n",
      "Column: FECHA_DEF\n",
      "Number of unique values: 431\n",
      "Unique values: ['9999-99-99' '2021-02-28' '2021-05-05' '2021-02-05' '2021-02-12'\n",
      " '2021-03-06' '2021-03-14' '2021-05-27' '2021-08-21' '2021-09-19']\n",
      "--------------------\n",
      "Column: INTUBADO\n",
      "Number of unique values: 4\n",
      "Unique values: [97  2 99  1]\n",
      "--------------------\n",
      "Column: NEUMONIA\n",
      "Number of unique values: 3\n",
      "Unique values: [ 2 99  1]\n",
      "--------------------\n",
      "Column: EDAD\n",
      "Number of unique values: 136\n",
      "Unique values: [26 34 41 25 20 29 36 30 57 63]\n",
      "--------------------\n",
      "Column: NACIONALIDAD\n",
      "Number of unique values: 2\n",
      "Unique values: [1 2]\n",
      "--------------------\n",
      "Column: EMBARAZO\n",
      "Number of unique values: 5\n",
      "Unique values: [97  2  1 98 99]\n",
      "--------------------\n",
      "Column: HABLA_LENGUA_INDIG\n",
      "Number of unique values: 3\n",
      "Unique values: [ 2 99  1]\n",
      "--------------------\n",
      "Column: INDIGENA\n",
      "Number of unique values: 3\n",
      "Unique values: [ 2 99  1]\n",
      "--------------------\n",
      "Column: DIABETES\n",
      "Number of unique values: 3\n",
      "Unique values: [ 2  1 98]\n",
      "--------------------\n",
      "Column: EPOC\n",
      "Number of unique values: 3\n",
      "Unique values: [ 2 98  1]\n",
      "--------------------\n",
      "Column: ASMA\n",
      "Number of unique values: 3\n",
      "Unique values: [ 2  1 98]\n",
      "--------------------\n",
      "Column: INMUSUPR\n",
      "Number of unique values: 3\n",
      "Unique values: [ 2 98  1]\n",
      "--------------------\n",
      "Column: HIPERTENSION\n",
      "Number of unique values: 3\n",
      "Unique values: [ 2  1 98]\n",
      "--------------------\n",
      "Column: OTRA_COM\n",
      "Number of unique values: 3\n",
      "Unique values: [ 2  1 98]\n",
      "--------------------\n",
      "Column: CARDIOVASCULAR\n",
      "Number of unique values: 3\n",
      "Unique values: [ 2  1 98]\n",
      "--------------------\n",
      "Column: OBESIDAD\n",
      "Number of unique values: 3\n",
      "Unique values: [ 2 98  1]\n",
      "--------------------\n",
      "Column: RENAL_CRONICA\n",
      "Number of unique values: 3\n",
      "Unique values: [ 2 98  1]\n",
      "--------------------\n",
      "Column: TABAQUISMO\n",
      "Number of unique values: 3\n",
      "Unique values: [ 2  1 98]\n",
      "--------------------\n",
      "Column: OTRO_CASO\n",
      "Number of unique values: 3\n",
      "Unique values: [ 1  2 99]\n",
      "--------------------\n",
      "Column: TOMA_MUESTRA_LAB\n",
      "Number of unique values: 2\n",
      "Unique values: [2 1]\n",
      "--------------------\n",
      "Column: RESULTADO_LAB\n",
      "Number of unique values: 4\n",
      "Unique values: [97  2  1  4]\n",
      "--------------------\n",
      "Column: TOMA_MUESTRA_ANTIGENO\n",
      "Number of unique values: 2\n",
      "Unique values: [1 2]\n",
      "--------------------\n",
      "Column: RESULTADO_ANTIGENO\n",
      "Number of unique values: 3\n",
      "Unique values: [ 2 97  1]\n",
      "--------------------\n",
      "Column: CLASIFICACION_FINAL\n",
      "Number of unique values: 7\n",
      "Unique values: [7 6 3 1 2 5 4]\n",
      "--------------------\n",
      "Column: MIGRANTE\n",
      "Number of unique values: 3\n",
      "Unique values: [99  1  2]\n",
      "--------------------\n",
      "Column: PAIS_NACIONALIDAD\n",
      "Number of unique values: 172\n",
      "Unique values: ['México' 'China' 'República de Honduras' 'Guatemala' 'Nicaragua' 'Perú'\n",
      " 'Otro' 'El Salvador' 'Venezuela' 'Estados Unidos de América']\n",
      "--------------------\n",
      "Column: PAIS_ORIGEN\n",
      "Number of unique values: 126\n",
      "Unique values: ['97' 'China' 'República de Honduras' 'Guatemala' 'Nicaragua' 'Perú'\n",
      " 'Otro' 'El Salvador' 'Venezuela' 'Estados Unidos de América']\n",
      "--------------------\n",
      "Column: UCI\n",
      "Number of unique values: 4\n",
      "Unique values: [97  2 99  1]\n",
      "--------------------\n"
     ]
    }
   ],
   "source": [
    "#PARA OBTENER LOS ÚNICOS VALORES\n",
    "#Parte 1\n",
    "while True:\n",
    "    print(\"0 = Datos del 2020\")\n",
    "    print(\"1 = Datos del 2021\")\n",
    "    print(\"2 = Datos del 2022\")\n",
    "    print(\"3 = Datos del 2023\")\n",
    "    print(\"[S] Salir\")\n",
    "    opcion = input(\"Ingrese el número para consultar información de 0 para 2020, 1 para 2021, 2 para 2022 o 3 para 2023, S para Salir:\").upper()\n",
    "    if opcion not in \"0,1,2,3,S\" or len(opcion) > 1:\n",
    "        print(\"No sé qué deseas hacer!\\n\")\n",
    "        continue\n",
    "    else:\n",
    "        match opcion:\n",
    "            case \"0\":\n",
    "                dataSelected = data2020\n",
    "                yearSelec = \"2020\"\n",
    "                break\n",
    "            case \"1\": \n",
    "                dataSelected = data2021\n",
    "                yearSelec = \"2021\"\n",
    "                break\n",
    "            case \"2\":\n",
    "                dataSelected = data2022\n",
    "                yearSelec = \"2022\"\n",
    "            case \"3\":\n",
    "                dataSelected = data2023\n",
    "                yearSelec = \"2023\"\n",
    "                break\n",
    "            case \"S\":\n",
    "                dataSelected = None\n",
    "                break\n",
    "\n",
    "#Parte 2\n",
    "\n",
    "unique_values = {\n",
    "    col : dataSelected[col].unique() for col in dataSelected.columns\n",
    "}\n",
    "\"\"\"\n",
    "We create a dictionary such that its keys are all the columns called col, then we iterate over each column to obtain its unique values\n",
    "\"For each column into the columns from the dataset, obtain its unique value\"\n",
    "\n",
    "In PANDAS, the notation to specify a column is with [], dataset[column]\n",
    "\"\"\"\n",
    "\n",
    "\n",
    "print('DATOS SELECCIONADOS DE: ', yearSelec)\n",
    "for col, values in unique_values.items():\n",
    "    print(f'Column: {col}')\n",
    "    print(f'Number of unique values: {len(values)}')\n",
    "    print(f'Unique values: {values[:10]}') # We obtain the first 10 values\n",
    "    print('-'*20) "
   ]
  },
  {
   "cell_type": "markdown",
   "metadata": {},
   "source": [
    "# Identificación de columnas que aportan información útil para nuestra delimitación y propósito.\n",
    "Con ello pudimos identificar nuestra columna de principal interés \"FECHA_DEF\" que contiene las fechas de defunción y que en conjunto con la columna \"EDAD\" y \"ENTIDAD_UM\" lograremos deliminar este dataset para nuestro modelo.\n",
    "\n",
    "# Transformando columna de tipo objeto a fecha\n",
    "Nota: Este código es de ChatGPT para la conversión de tipo OBJETO a DATETIME:\n",
    "        # Lista de DataFrames\n",
    "        dataframes = [data2020, data2021, data2022, data2023]\n",
    "\n",
    "        Columnas de fechas\n",
    "        fecha_cols = ['FECHA_ACTUALIZACION', 'FECHA_INGRESO', 'FECHA_SINTOMAS', 'FECHA_DEF']\n",
    "\n",
    "        for df in dataframes:\n",
    "            for col in fecha_cols:\n",
    "                df[col] = pd.to_datetime(df[col], format='%Y-%m-%d', errors='coerce')  # Convierte y deja errores como NaT\n",
    "\n",
    "**PERO ANTES VERIFIQUEMOS QUE POR LO MENOS NUESTRA COLUMNA DE INTERES (FECHA_DEF) ES DE TIPO OBJETO ANTES DE SU CONVERSIÓN**\n",
    "En efecto, es de tipo OBJETO, por lo tanto procedemos a la transformación pero unicamente de nuestra columna de interés \"FECHA_DEF\"\n",
    "\n",
    "- Una vez verificado...\n",
    "\n",
    "Toma las fechas que no coinciden con un formato correcto como \"9999-99-99\" y les asigna el valor de NaT\n",
    "**Esto libera nuestro dataset de información que no aporta valor a nuestro modelo y solo genera errores**, es quizá información que no logró cargarse dentro de su página oficial, información que no logró cargarse bien desde su registro, en fin.\n",
    "Esto se logra con el parámetro errors='coerce' dentro del método que hace la conversión (to_datetime)\n",
    "\n",
    "# ASUMIMOS Sobrevivientes\n",
    "Para no dejar de lado nuestra información que no tiene registro de defunción o que es un registro inválido, podemos asumir que es un registro de sobrevivencia."
   ]
  },
  {
   "cell_type": "code",
   "execution_count": 25,
   "metadata": {},
   "outputs": [
    {
     "name": "stdout",
     "output_type": "stream",
     "text": [
      "object\n"
     ]
    }
   ],
   "source": [
    "#Verificamos que nuestra columna principal esté realmente en un formato incorrecto...\n",
    "print(dataSelected['FECHA_DEF'].dtype)\n",
    "#OBSERVAMOS QUE ES DE TIPO OBJETO, por lo cual procedemos a hacer el cambio."
   ]
  },
  {
   "cell_type": "code",
   "execution_count": 26,
   "metadata": {},
   "outputs": [
    {
     "name": "stdout",
     "output_type": "stream",
     "text": [
      "datetime64[ns]\n"
     ]
    }
   ],
   "source": [
    "#REALIZAMOS LA CONVERSIÓN A TIPO DATETIME\n",
    "#Lista de DataFrames\n",
    "dataframes = [data2020, data2021, data2022, data2023]\n",
    "\n",
    "fecha_cols = ['FECHA_DEF', 'FECHA_INGRESO','FECHA_SINTOMAS']\n",
    "\n",
    "for df in dataframes:\n",
    "    for col in fecha_cols:\n",
    "        df[col] = pd.to_datetime(df[col], format='%Y-%m-%d', errors='coerce')  # Convierte y deja errores como NaT, \n",
    "        \n",
    "#REVISAMOS QUE ESTÉ EN EL FORMATO CORRECTO DE NUEVO NUESTRA COLUMNA PRINCIPAL DE INTERÉS\n",
    "print(dataSelected['FECHA_DEF'].dtype)"
   ]
  },
  {
   "cell_type": "markdown",
   "metadata": {},
   "source": [
    "# Delimitando información de cada dataset\n",
    "Observemos lo siguiente:\n",
    "Si realizamos un chequeo de los datos únicos de la columna \"FECHA_DEF\" para el dataset de 2020 logramos observar que hay datos de 2021 en 2020, esto debido a que en la página en donde se descargaron *el registro del año* comienza en abril de 2020 y termina en abril de 2021... justo cuando dió inicio la pandemia en México y es algo que debemos de deliminar! Pero esto lo haremos más adelante.\n",
    "\n",
    "# Delimitación por Entidad - GUERRERP\n",
    "Haremos el filtrado de nuestra información con la que trabajaremos, para este caso queremos simplemente los datos del estado de Guerrero que le corresponde el valor 12 en la columa \"ENTIDAD_UM\".\n",
    "\n",
    "Este valor fue obtenido gracias al archivo que funciona como diccionario de todos los datasets \"diccionario_datos_abiertos\" que viene anexado en: (https://www.gob.mx/salud/documentos/datos-abiertos-bases-historicas-direccion-general-de-epidemiologia).\n",
    "\n",
    "Daremos tratamiento por si hubo filas repetidas ya que no vamos a revisar fila por fila o algún otra situación que interfiera con nuestros datos, para posteriromente poder hacer una división más exacta de nuestros datos ya que como mencionabamos, habia datos de defunciones de 2021 en 2020 y así en los otros años.\n",
    "\n",
    "- dataVar2020 = \"DATASET DE  CASOS ASOCIADOS A COVID-19 EN GUERRERO 2020\"\n",
    "- dataVar2021 = \"DATASET DE  CASOS ASOCIADOS A COVID-19 EN GUERRERO 2021\"\n",
    "- dataVar2022 = \"DATASET DE  CASOS ASOCIADOS A COVID-19 EN GUERRERO 2022\"\n",
    "- dataVar2023 = \"DATASET DE  CASOS ASOCIADOS A COVID-19 EN GUERRERO 2023\"\n",
    "- dataVarTOTAL = \"DATASET DE  CASOS ASOCIADOS A COVID-19 EN GUERRERO de 2020 a 2023\""
   ]
  },
  {
   "cell_type": "code",
   "execution_count": 27,
   "metadata": {},
   "outputs": [
    {
     "name": "stdout",
     "output_type": "stream",
     "text": [
      "<class 'pandas.core.frame.DataFrame'>\n",
      "RangeIndex: 277802 entries, 0 to 277801\n",
      "Data columns (total 40 columns):\n",
      " #   Column                 Non-Null Count   Dtype         \n",
      "---  ------                 --------------   -----         \n",
      " 0   FECHA_ACTUALIZACION    277802 non-null  object        \n",
      " 1   ID_REGISTRO            277802 non-null  object        \n",
      " 2   ORIGEN                 277802 non-null  int64         \n",
      " 3   SECTOR                 277802 non-null  int64         \n",
      " 4   ENTIDAD_UM             277802 non-null  int64         \n",
      " 5   SEXO                   277802 non-null  int64         \n",
      " 6   ENTIDAD_NAC            277802 non-null  int64         \n",
      " 7   ENTIDAD_RES            277802 non-null  int64         \n",
      " 8   MUNICIPIO_RES          277802 non-null  int64         \n",
      " 9   TIPO_PACIENTE          277802 non-null  int64         \n",
      " 10  FECHA_INGRESO          277802 non-null  datetime64[ns]\n",
      " 11  FECHA_SINTOMAS         277802 non-null  datetime64[ns]\n",
      " 12  FECHA_DEF              8857 non-null    datetime64[ns]\n",
      " 13  INTUBADO               277802 non-null  int64         \n",
      " 14  NEUMONIA               277802 non-null  int64         \n",
      " 15  EDAD                   277802 non-null  int64         \n",
      " 16  NACIONALIDAD           277802 non-null  int64         \n",
      " 17  EMBARAZO               277802 non-null  int64         \n",
      " 18  HABLA_LENGUA_INDIG     277802 non-null  int64         \n",
      " 19  INDIGENA               277802 non-null  int64         \n",
      " 20  DIABETES               277802 non-null  int64         \n",
      " 21  EPOC                   277802 non-null  int64         \n",
      " 22  ASMA                   277802 non-null  int64         \n",
      " 23  INMUSUPR               277802 non-null  int64         \n",
      " 24  HIPERTENSION           277802 non-null  int64         \n",
      " 25  OTRA_COM               277802 non-null  int64         \n",
      " 26  CARDIOVASCULAR         277802 non-null  int64         \n",
      " 27  OBESIDAD               277802 non-null  int64         \n",
      " 28  RENAL_CRONICA          277802 non-null  int64         \n",
      " 29  TABAQUISMO             277802 non-null  int64         \n",
      " 30  OTRO_CASO              277802 non-null  int64         \n",
      " 31  TOMA_MUESTRA_LAB       277802 non-null  int64         \n",
      " 32  RESULTADO_LAB          277802 non-null  int64         \n",
      " 33  TOMA_MUESTRA_ANTIGENO  277802 non-null  int64         \n",
      " 34  RESULTADO_ANTIGENO     277802 non-null  int64         \n",
      " 35  CLASIFICACION_FINAL    277802 non-null  int64         \n",
      " 36  MIGRANTE               277802 non-null  int64         \n",
      " 37  PAIS_NACIONALIDAD      277802 non-null  object        \n",
      " 38  PAIS_ORIGEN            277802 non-null  object        \n",
      " 39  UCI                    277802 non-null  int64         \n",
      "dtypes: datetime64[ns](3), int64(33), object(4)\n",
      "memory usage: 84.8+ MB\n"
     ]
    }
   ],
   "source": [
    "# 12 es el valor de nuestro interés pues corresponde al estado de GUERRERO\n",
    "stateKey = int(input('Indique la clave del estado (12 para Guerrero):\\n'))\n",
    "dataVar2020 = data2020.query(f'ENTIDAD_UM == {stateKey}')\n",
    "dataVar2021 = data2021.query(f'ENTIDAD_UM == {stateKey}')\n",
    "dataVar2022 = data2022.query(f'ENTIDAD_UM == {stateKey}')\n",
    "dataVar2023 = data2023.query(f'ENTIDAD_UM == {stateKey}')\n",
    "\n",
    "#Unimos los datos de Guerrero en un solo DataFrame\n",
    "dataVarTOTAL = pd.concat([dataVar2020, dataVar2021, dataVar2022, dataVar2023], axis=0, ignore_index=True)\n",
    "dataVarTOTAL.info()"
   ]
  },
  {
   "cell_type": "code",
   "execution_count": 28,
   "metadata": {},
   "outputs": [],
   "source": [
    "# Eliminaremos datos duplicados en caso de que haya.\n",
    "#dataVarTOTAL.drop_duplicates(inplace=True)\n",
    "# No hubo"
   ]
  },
  {
   "cell_type": "markdown",
   "metadata": {},
   "source": [
    "# FILTRADO DE DATOS POR AÑO Y EDAD\n",
    "Debido a la falta de información y congruencia que suele haber en las páginas, haremos un filtrado por año (2020, 2021, 2022, 2023) y por edad para disponer de la información de manera eficiente ante cualquier caso posible.\n",
    "- Creamos una columna nueva llamada AÑO_DEF que corresponde unicamente al año de defunción de la persona que, tras el úlitmo código, residen en Guerrero.\n",
    "- Teniendo 4 nuevos datasets que corresponden a cada año (2020,2021,2022,2023), podemos conocer el rango de edades por medio de describe sobre la columna de \"EDAD\"."
   ]
  },
  {
   "cell_type": "markdown",
   "metadata": {},
   "source": [
    "# Filtrado por año\n",
    "Para ello crearemos una nueva columna sobre nuestro DataFrame que contiene toda la información de 2020 a 2023\n",
    "La pandemia dió inicio en abril, por lo tanto los años que se consideraron completos van de abril de 2020 a abril de 2021 y asi sucesivamente hasta cerrar datos en abril de 2024.\n",
    "- Entonces creamos una nueva columna que contiene unicamente el año de defunción, sobre la columna \"FECHA_DEF\"."
   ]
  },
  {
   "cell_type": "code",
   "execution_count": 29,
   "metadata": {},
   "outputs": [],
   "source": [
    "dataVarTOTAL['AÑO_DEF'] = dataVarTOTAL['FECHA_DEF'].dt.year"
   ]
  },
  {
   "cell_type": "markdown",
   "metadata": {},
   "source": [
    "Corroboramos que nuestos datos esten bien y los valores únicos que estan sobre la columna creada \"AÑO_DEF\" correspondan de 2020 a 2023\n",
    "- NaN son los datos que mencionamos que NO aportan valor y que asumimos que son las personas que sobrevivieron al no tener una fecha de defunción correcta o que quizá se perdió al momento de hacer pública la información."
   ]
  },
  {
   "cell_type": "code",
   "execution_count": 30,
   "metadata": {},
   "outputs": [
    {
     "name": "stdout",
     "output_type": "stream",
     "text": [
      "Registro de años con defunciones:  [  nan 2020. 2021. 2022. 2023. 2024.]\n"
     ]
    }
   ],
   "source": [
    "#Veamos los años únicos que hay para evitar problemas y quizá buenas prácticas:\n",
    "años_unicosDEF = dataVarTOTAL['AÑO_DEF'].unique()\n",
    "print('Registro de años con defunciones: ', años_unicosDEF)"
   ]
  },
  {
   "cell_type": "markdown",
   "metadata": {},
   "source": [
    "Creación de los nuevos datasets que estan delimitados por único año de defunción, aquí corregimos lo que mencionabamos de que hay datos de 2021 en 2020.\n",
    "Ademas notese que ya estamos quitando indirectamente la información de donde no hay un registro de defunciones entre los datasets, pudo haberse hecho con .dropna() pero ese no es el punto, el punto es obtener la información que aporte a nuestro modelo que de forma indirecta se logró quitando esos casos delimitando nuestros datasets."
   ]
  },
  {
   "cell_type": "code",
   "execution_count": 31,
   "metadata": {},
   "outputs": [],
   "source": [
    "df_2020 = dataVarTOTAL[dataVarTOTAL['AÑO_DEF'] == 2020]\n",
    "df_2021 = dataVarTOTAL[dataVarTOTAL['AÑO_DEF'] == 2021]\n",
    "df_2022 = dataVarTOTAL[dataVarTOTAL['AÑO_DEF'] == 2022]\n",
    "df_2023 = dataVarTOTAL[dataVarTOTAL['AÑO_DEF'] == 2023]\n",
    "#Excluimos el año 2024, ya que para la comparativa tomamos 4 años antes de covid."
   ]
  },
  {
   "cell_type": "markdown",
   "metadata": {},
   "source": [
    "# Verificación de nuestros datos\n",
    "Ahora revisemos que tan mal están nuestros datos, como bien mencionamos para corroborar nuestra información nos basamos en las cifras publicadas por la Secretaria de Salud de Guerrero el cual menciona que hubo un registro de 4,123 muertes en 2021 entonces, veamos que nuestros dataset nos indica un registro de 4,181 muertas aproximadamente, hubo un pequeño exceso en cuanto a las cifras registradas pero damos veracidad a nuestra información con un pequeño margen de error."
   ]
  },
  {
   "cell_type": "code",
   "execution_count": 32,
   "metadata": {},
   "outputs": [
    {
     "name": "stdout",
     "output_type": "stream",
     "text": [
      "AÑO_DEF\n",
      "2021.0    4181\n",
      "Name: count, dtype: int64\n"
     ]
    }
   ],
   "source": [
    "# MUERTES POR AÑO\n",
    "conteo = df_2021['AÑO_DEF'].value_counts()\n",
    "print(conteo)"
   ]
  },
  {
   "cell_type": "markdown",
   "metadata": {},
   "source": [
    "# Delitación por edad\n",
    "Nuestra información obtenida a partir de este proceso que estamos realizando de analizar, filtrar y delimitar la información, será comparada con los datos que registra CONAPO, pues INEGI no dispone de esta información específica que necesitamos.\n",
    "El problema es que CONAPO solo tiene registro de información de edades de 0 a 109 años unicamente, entonces tenemos que deliminar nuestra información de muertes por COVID a este rango.\n",
    "\n",
    "Observese que nuestro rango de información de muertes por covid que acabamos de delimitar va de 0 a 123 años de edad! Esto lo logramos con el método describe que nos da un resumen estadístico de nuestra información, en este caso aplicado sobre la columna EDAD."
   ]
  },
  {
   "cell_type": "code",
   "execution_count": 55,
   "metadata": {},
   "outputs": [
    {
     "data": {
      "text/plain": [
       "count    277802.000000\n",
       "mean         39.850869\n",
       "std          17.865710\n",
       "min           0.000000\n",
       "25%          27.000000\n",
       "50%          38.000000\n",
       "75%          51.000000\n",
       "max         123.000000\n",
       "Name: EDAD, dtype: float64"
      ]
     },
     "execution_count": 55,
     "metadata": {},
     "output_type": "execute_result"
    }
   ],
   "source": [
    "dataVarTOTAL['EDAD'].describe()"
   ]
  },
  {
   "cell_type": "code",
   "execution_count": 38,
   "metadata": {},
   "outputs": [
    {
     "name": "stdout",
     "output_type": "stream",
     "text": [
      "Personas asociadas a casos de COVID mayores de 100 años durante 2020-23 en Guerrero:  74\n",
      "De las cuales fallecieron 71 de ese grupo de personas\n"
     ]
    }
   ],
   "source": [
    "# Simple curiosidad por observar y conocer los datos: \n",
    "personas_mayores_100 = dataVarTOTAL[dataVarTOTAL['EDAD'] > 100]\n",
    "TOTAL_personas_mayores_100 = total_filas = personas_mayores_100.shape[0]\n",
    "print('Personas asociadas a casos de COVID mayores de 100 años durante 2020-23 en Guerrero: ', TOTAL_personas_mayores_100)\n",
    "\n",
    "#DE LAS CUALES FALLECIERON...\n",
    "defunciones100Años = personas_mayores_100['FECHA_DEF'].isna().sum()\n",
    "print(f'De las cuales fallecieron {defunciones100Años} de ese grupo de personas')"
   ]
  },
  {
   "cell_type": "markdown",
   "metadata": {},
   "source": [
    "# Muertes por edad\n",
    "Veamos un vistazo rápido al número de muertes de algunas edades filtradas durante 2021. Hay dos formas de hacerlo, consultarlo directamente desde el dataset que contiene toda la información o hacerlo desde el dataset del año en específico (la de 2021 en df_2021)."
   ]
  },
  {
   "cell_type": "code",
   "execution_count": 40,
   "metadata": {},
   "outputs": [
    {
     "name": "stdout",
     "output_type": "stream",
     "text": [
      "EDAD\n",
      "68     124\n",
      "67     122\n",
      "71     117\n",
      "73     116\n",
      "69     116\n",
      "      ... \n",
      "104      1\n",
      "7        1\n",
      "100      1\n",
      "15       1\n",
      "5        1\n",
      "Name: count, Length: 98, dtype: int64\n"
     ]
    }
   ],
   "source": [
    "data_2021 = df_2021[df_2021['AÑO_DEF'] == 2021]\n",
    "conteo_edades = data_2021['EDAD'].value_counts()\n",
    "\n",
    "conteo_edades_ordenado = conteo_edades.sort_values(ascending=False)\n",
    "print(conteo_edades_ordenado)"
   ]
  },
  {
   "cell_type": "markdown",
   "metadata": {},
   "source": [
    "# Creación de nuestro dataset final\n",
    "La idea es la siguiente:\n",
    "Tener un dataset que contenga las siguientes columnas:\n",
    "- EDAD\n",
    "- MUERTES 2020\n",
    "- MUERTES 2021\n",
    "- MUERTES 2022\n",
    "- MUERTES 2023"
   ]
  },
  {
   "cell_type": "code",
   "execution_count": 50,
   "metadata": {},
   "outputs": [
    {
     "name": "stdout",
     "output_type": "stream",
     "text": [
      "    EDAD  MUERTES 2020\n",
      "53     0            18\n",
      "57     1            15\n",
      "72     2             4\n",
      "84     3             2\n",
      "85     5             2\n",
      "..   ...           ...\n",
      "73    96             4\n",
      "86    97             2\n",
      "81    98             2\n",
      "94    99             1\n",
      "93   100             1\n",
      "\n",
      "[98 rows x 2 columns]\n",
      "    EDAD  MUERTES 2021\n",
      "62     0            14\n",
      "65     1            13\n",
      "92     2             1\n",
      "85     4             2\n",
      "97     5             1\n",
      "..   ...           ...\n",
      "78    97             5\n",
      "79    98             4\n",
      "81    99             3\n",
      "95   100             1\n",
      "93   104             1\n",
      "\n",
      "[98 rows x 2 columns]\n",
      "    EDAD  MUERTES 2022\n",
      "17     0            15\n",
      "10     1            17\n",
      "33     2             9\n",
      "81     3             2\n",
      "89     4             1\n",
      "..   ...           ...\n",
      "72    96             3\n",
      "83    97             1\n",
      "70    98             3\n",
      "94   101             1\n",
      "85   104             1\n",
      "\n",
      "[95 rows x 2 columns]\n",
      "    EDAD  MUERTES 2023\n",
      "0      0            10\n",
      "3      1             8\n",
      "23     2             4\n",
      "68     4             1\n",
      "71     5             1\n",
      "..   ...           ...\n",
      "59    88             2\n",
      "31    89             4\n",
      "64    90             2\n",
      "60    91             2\n",
      "75    98             1\n",
      "\n",
      "[76 rows x 2 columns]\n"
     ]
    }
   ],
   "source": [
    "# PARA 2020\n",
    "# Contar los casos por edad y convertirlo en DataFrame\n",
    "def_2020 = df_2020['EDAD'].value_counts().reset_index()\n",
    "\n",
    "# Renombrar columnas\n",
    "def_2020.columns = ['EDAD', 'MUERTES 2020']\n",
    "\n",
    "# Ordenar por EDAD en orden ascendente\n",
    "def_2020 = def_2020.sort_values(by='EDAD', ascending=True)\n",
    "\n",
    "# Mostrar el DataFrame resultante\n",
    "print(def_2020)\n",
    "\n",
    "# PARA 2021\n",
    "# Contar los casos por edad y convertirlo en DataFrame\n",
    "def_2021 = df_2021['EDAD'].value_counts().reset_index()\n",
    "\n",
    "# Renombrar columnas\n",
    "def_2021.columns = ['EDAD', 'MUERTES 2021']\n",
    "\n",
    "# Ordenar por EDAD en orden ascendente\n",
    "def_2021 = def_2021.sort_values(by='EDAD', ascending=True)\n",
    "\n",
    "# Mostrar el DataFrame resultante\n",
    "print(def_2021)\n",
    "\n",
    "# PARA 2022\n",
    "# Contar los casos por edad y convertirlo en DataFrame\n",
    "def_2022 = df_2022['EDAD'].value_counts().reset_index()\n",
    "\n",
    "# Renombrar columnas\n",
    "def_2022.columns = ['EDAD', 'MUERTES 2022']\n",
    "\n",
    "# Ordenar por EDAD en orden ascendente\n",
    "def_2022 = def_2022.sort_values(by='EDAD', ascending=True)\n",
    "\n",
    "# Mostrar el DataFrame resultante\n",
    "print(def_2022)\n",
    "\n",
    "\n",
    "#PARA 2023\n",
    "# Contar los casos por edad y convertirlo en DataFrame\n",
    "def_2023 = df_2023['EDAD'].value_counts().reset_index()\n",
    "\n",
    "# Renombrar columnas\n",
    "def_2023.columns = ['EDAD', 'MUERTES 2023']\n",
    "\n",
    "# Ordenar por EDAD en orden ascendente\n",
    "def_2023 = def_2023.sort_values(by='EDAD', ascending=True)\n",
    "\n",
    "# Mostrar el DataFrame resultante\n",
    "print(def_2023)\n",
    "\n"
   ]
  },
  {
   "cell_type": "markdown",
   "metadata": {},
   "source": [
    "# UNIÓN \n",
    "Por último unimos los anteriores dataframes, los ordenamos, analizamos que la edad máxima sobre estos años de 2020 a 2023 fue de 101, entonces necesitamoss trabajar bajo mismas dimensiones! Por lo tanto nuestra información de CONAPO que solo llega hasta 109 años, se delimitará hasta 101 años, para que ambos dataframes estén bajo la misma dimensión y poder operar o hacer calculos sobre ellas, debe de haber un equilibrio."
   ]
  },
  {
   "cell_type": "code",
   "execution_count": 56,
   "metadata": {},
   "outputs": [
    {
     "name": "stdout",
     "output_type": "stream",
     "text": [
      "     EDAD  MUERTES 2020  MUERTES 2021  MUERTES 2022  MUERTES 2023\n",
      "0       0          18.0          14.0          15.0          10.0\n",
      "1       1          15.0          13.0          17.0           8.0\n",
      "2       2           4.0           1.0           9.0           4.0\n",
      "3       3           2.0           0.0           2.0           0.0\n",
      "4       4           0.0           2.0           1.0           1.0\n",
      "..    ...           ...           ...           ...           ...\n",
      "97     98           2.0           4.0           3.0           1.0\n",
      "98     99           1.0           3.0           0.0           0.0\n",
      "99    100           1.0           1.0           0.0           0.0\n",
      "100   101           0.0           0.0           1.0           0.0\n",
      "101   104           0.0           1.0           1.0           0.0\n",
      "\n",
      "[102 rows x 5 columns]\n"
     ]
    }
   ],
   "source": [
    "# Fusionar los DataFrames usando 'outer' para conservar todas las edades\n",
    "muertesCOVID2020_2023PorEdad = def_2020.merge(def_2021, on='EDAD', how='outer') \\\n",
    "                   .merge(def_2022, on='EDAD', how='outer') \\\n",
    "                   .merge(def_2023, on='EDAD', how='outer')\n",
    "\n",
    "# Reemplazar NaN por 0 en las columnas de conteo\n",
    "muertesCOVID2020_2023PorEdad.fillna(0, inplace=True)\n",
    "\n",
    "# Convertir las columnas de conteo a enteros (opcional, si deseas evitar decimales)\n",
    "muertesCOVID2020_2023PorEdad.iloc[:, 1:] = muertesCOVID2020_2023PorEdad.iloc[:, 1:].astype(int)\n",
    "\n",
    "# Mostrar el DataFrame final\n",
    "print(muertesCOVID2020_2023PorEdad)\n"
   ]
  },
  {
   "cell_type": "markdown",
   "metadata": {},
   "source": [
    "# Guardamos este dataset en formato excel"
   ]
  },
  {
   "cell_type": "code",
   "execution_count": 57,
   "metadata": {},
   "outputs": [],
   "source": [
    "ruta_guardado = \"/Users/hectorastudillo/Downloads/muertesCOVID2020_2023PorEdad.xlsx\"\n",
    "muertesCOVID2020_2023PorEdad.to_excel(ruta_guardado, index=False)"
   ]
  },
  {
   "cell_type": "markdown",
   "metadata": {},
   "source": [
    "La información se ve muy clara, los grupos que mayormente fueron vulnerables son claros y muestran el comportamiento que uno esperaria, comprobamos la información con fuentes confiables, estoy satisfecho."
   ]
  }
 ],
 "metadata": {
  "kernelspec": {
   "display_name": "env_analysis",
   "language": "python",
   "name": "python3"
  },
  "language_info": {
   "codemirror_mode": {
    "name": "ipython",
    "version": 3
   },
   "file_extension": ".py",
   "mimetype": "text/x-python",
   "name": "python",
   "nbconvert_exporter": "python",
   "pygments_lexer": "ipython3",
   "version": "3.10.0"
  }
 },
 "nbformat": 4,
 "nbformat_minor": 2
}
